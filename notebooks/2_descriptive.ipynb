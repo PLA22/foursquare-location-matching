{
 "cells": [
  {
   "cell_type": "code",
   "execution_count": 1,
   "id": "after-girlfriend",
   "metadata": {},
   "outputs": [],
   "source": [
    "import math\n",
    "import unidecode\n",
    "\n",
    "import numpy as np\n",
    "import pandas as pd\n",
    "import matplotlib.pyplot as plt\n",
    "\n",
    "pd.set_option('display.max_colwidth', None)"
   ]
  },
  {
   "cell_type": "code",
   "execution_count": 2,
   "id": "loose-boundary",
   "metadata": {},
   "outputs": [],
   "source": [
    "def descriptive(series):\n",
    "    counts = series.value_counts()\n",
    "    print(counts.head(10))\n",
    "    rows_common = counts[counts >= 5].sum()\n",
    "    classes_common = counts[counts >= 5].count()\n",
    "    print(\"not null\", series.notnull().sum())\n",
    "    print(\"rows (common classes)\", rows_common, \"classes\", classes_common)\n",
    "    print(counts.describe(percentiles=[0.9, 0.95, 0.99, 0.999]))"
   ]
  },
  {
   "cell_type": "code",
   "execution_count": 3,
   "id": "played-conditions",
   "metadata": {
    "scrolled": false
   },
   "outputs": [
    {
     "name": "stdout",
     "output_type": "stream",
     "text": [
      "(1138812, 15)\n",
      "id                        0\n",
      "name                      1\n",
      "latitude                  0\n",
      "longitude                 0\n",
      "address              396621\n",
      "city                 299189\n",
      "state                420586\n",
      "zip                  595426\n",
      "country                  11\n",
      "url                  871088\n",
      "phone                795957\n",
      "categories            98307\n",
      "point_of_interest         0\n",
      "validation                0\n",
      "fold                      0\n",
      "dtype: int64\n"
     ]
    },
    {
     "data": {
      "text/html": [
       "<div>\n",
       "<style scoped>\n",
       "    .dataframe tbody tr th:only-of-type {\n",
       "        vertical-align: middle;\n",
       "    }\n",
       "\n",
       "    .dataframe tbody tr th {\n",
       "        vertical-align: top;\n",
       "    }\n",
       "\n",
       "    .dataframe thead th {\n",
       "        text-align: right;\n",
       "    }\n",
       "</style>\n",
       "<table border=\"1\" class=\"dataframe\">\n",
       "  <thead>\n",
       "    <tr style=\"text-align: right;\">\n",
       "      <th></th>\n",
       "      <th>id</th>\n",
       "      <th>name</th>\n",
       "      <th>latitude</th>\n",
       "      <th>longitude</th>\n",
       "      <th>address</th>\n",
       "      <th>city</th>\n",
       "      <th>state</th>\n",
       "      <th>zip</th>\n",
       "      <th>country</th>\n",
       "      <th>url</th>\n",
       "      <th>phone</th>\n",
       "      <th>categories</th>\n",
       "      <th>point_of_interest</th>\n",
       "      <th>validation</th>\n",
       "      <th>fold</th>\n",
       "    </tr>\n",
       "  </thead>\n",
       "  <tbody>\n",
       "    <tr>\n",
       "      <th>0</th>\n",
       "      <td>E_000001272c6c5d</td>\n",
       "      <td>Café Stad Oudenaarde</td>\n",
       "      <td>50.859975</td>\n",
       "      <td>3.634196</td>\n",
       "      <td>Abdijstraat</td>\n",
       "      <td>Nederename</td>\n",
       "      <td>Oost-Vlaanderen</td>\n",
       "      <td>9700</td>\n",
       "      <td>BE</td>\n",
       "      <td>NaN</td>\n",
       "      <td>NaN</td>\n",
       "      <td>Bars</td>\n",
       "      <td>P_677e840bb6fc7e</td>\n",
       "      <td>0</td>\n",
       "      <td>1</td>\n",
       "    </tr>\n",
       "    <tr>\n",
       "      <th>1</th>\n",
       "      <td>E_000002eae2a589</td>\n",
       "      <td>Carioca Manero</td>\n",
       "      <td>-22.907225</td>\n",
       "      <td>-43.178244</td>\n",
       "      <td>NaN</td>\n",
       "      <td>NaN</td>\n",
       "      <td>NaN</td>\n",
       "      <td>NaN</td>\n",
       "      <td>BR</td>\n",
       "      <td>NaN</td>\n",
       "      <td>NaN</td>\n",
       "      <td>Brazilian Restaurants</td>\n",
       "      <td>P_d82910d8382a83</td>\n",
       "      <td>0</td>\n",
       "      <td>1</td>\n",
       "    </tr>\n",
       "    <tr>\n",
       "      <th>2</th>\n",
       "      <td>E_000007f24ebc95</td>\n",
       "      <td>ร้านตัดผมการาเกด</td>\n",
       "      <td>13.780813</td>\n",
       "      <td>100.484900</td>\n",
       "      <td>NaN</td>\n",
       "      <td>NaN</td>\n",
       "      <td>NaN</td>\n",
       "      <td>NaN</td>\n",
       "      <td>TH</td>\n",
       "      <td>NaN</td>\n",
       "      <td>NaN</td>\n",
       "      <td>Salons / Barbershops</td>\n",
       "      <td>P_b1066599e78477</td>\n",
       "      <td>0</td>\n",
       "      <td>2</td>\n",
       "    </tr>\n",
       "    <tr>\n",
       "      <th>3</th>\n",
       "      <td>E_000008a8ba4f48</td>\n",
       "      <td>Turkcell</td>\n",
       "      <td>37.844510</td>\n",
       "      <td>27.844202</td>\n",
       "      <td>Adnan Menderes Bulvarı</td>\n",
       "      <td>NaN</td>\n",
       "      <td>NaN</td>\n",
       "      <td>NaN</td>\n",
       "      <td>TR</td>\n",
       "      <td>NaN</td>\n",
       "      <td>NaN</td>\n",
       "      <td>Mobile Phone Shops</td>\n",
       "      <td>P_b2ed86905a4cd3</td>\n",
       "      <td>0</td>\n",
       "      <td>1</td>\n",
       "    </tr>\n",
       "    <tr>\n",
       "      <th>4</th>\n",
       "      <td>E_00001d92066153</td>\n",
       "      <td>Restaurante Casa Cofiño</td>\n",
       "      <td>43.338196</td>\n",
       "      <td>-4.326821</td>\n",
       "      <td>NaN</td>\n",
       "      <td>Caviedes</td>\n",
       "      <td>Cantabria</td>\n",
       "      <td>NaN</td>\n",
       "      <td>ES</td>\n",
       "      <td>NaN</td>\n",
       "      <td>NaN</td>\n",
       "      <td>Spanish Restaurants</td>\n",
       "      <td>P_809a884d4407fb</td>\n",
       "      <td>0</td>\n",
       "      <td>3</td>\n",
       "    </tr>\n",
       "  </tbody>\n",
       "</table>\n",
       "</div>"
      ],
      "text/plain": [
       "                 id                     name   latitude   longitude  \\\n",
       "0  E_000001272c6c5d     Café Stad Oudenaarde  50.859975    3.634196   \n",
       "1  E_000002eae2a589           Carioca Manero -22.907225  -43.178244   \n",
       "2  E_000007f24ebc95         ร้านตัดผมการาเกด  13.780813  100.484900   \n",
       "3  E_000008a8ba4f48                 Turkcell  37.844510   27.844202   \n",
       "4  E_00001d92066153  Restaurante Casa Cofiño  43.338196   -4.326821   \n",
       "\n",
       "                  address        city            state   zip country  url  \\\n",
       "0             Abdijstraat  Nederename  Oost-Vlaanderen  9700      BE  NaN   \n",
       "1                     NaN         NaN              NaN   NaN      BR  NaN   \n",
       "2                     NaN         NaN              NaN   NaN      TH  NaN   \n",
       "3  Adnan Menderes Bulvarı         NaN              NaN   NaN      TR  NaN   \n",
       "4                     NaN    Caviedes        Cantabria   NaN      ES  NaN   \n",
       "\n",
       "  phone             categories point_of_interest  validation  fold  \n",
       "0   NaN                   Bars  P_677e840bb6fc7e           0     1  \n",
       "1   NaN  Brazilian Restaurants  P_d82910d8382a83           0     1  \n",
       "2   NaN   Salons / Barbershops  P_b1066599e78477           0     2  \n",
       "3   NaN     Mobile Phone Shops  P_b2ed86905a4cd3           0     1  \n",
       "4   NaN    Spanish Restaurants  P_809a884d4407fb           0     3  "
      ]
     },
     "execution_count": 3,
     "metadata": {},
     "output_type": "execute_result"
    }
   ],
   "source": [
    "df_train = pd.read_csv(\"/kaggle/input/foursquare-location-matching/train_fold.csv\")\n",
    "print(df_train.shape)\n",
    "print(df_train.isnull().sum(axis=0))\n",
    "df_train.head()"
   ]
  },
  {
   "cell_type": "code",
   "execution_count": 4,
   "id": "0d95de6d",
   "metadata": {},
   "outputs": [
    {
     "data": {
      "text/plain": [
       "0    1107754\n",
       "1      31058\n",
       "Name: validation, dtype: int64"
      ]
     },
     "execution_count": 4,
     "metadata": {},
     "output_type": "execute_result"
    }
   ],
   "source": [
    "df_train[\"validation\"].value_counts()"
   ]
  },
  {
   "cell_type": "code",
   "execution_count": 5,
   "id": "347bf406",
   "metadata": {},
   "outputs": [
    {
     "data": {
      "text/plain": [
       " 2    369874\n",
       " 3    369140\n",
       " 1    368740\n",
       "-1     31058\n",
       "Name: fold, dtype: int64"
      ]
     },
     "execution_count": 5,
     "metadata": {},
     "output_type": "execute_result"
    }
   ],
   "source": [
    "df_train[\"fold\"].value_counts()"
   ]
  },
  {
   "cell_type": "code",
   "execution_count": 6,
   "id": "neural-czech",
   "metadata": {
    "scrolled": true
   },
   "outputs": [
    {
     "data": {
      "text/plain": [
       "1138812"
      ]
     },
     "execution_count": 6,
     "metadata": {},
     "output_type": "execute_result"
    }
   ],
   "source": [
    "df_train[\"id\"].nunique()"
   ]
  },
  {
   "cell_type": "markdown",
   "id": "typical-forty",
   "metadata": {},
   "source": [
    "## Column descriptive analysis"
   ]
  },
  {
   "cell_type": "markdown",
   "id": "choice-investigation",
   "metadata": {},
   "source": [
    "### name"
   ]
  },
  {
   "cell_type": "code",
   "execution_count": 7,
   "id": "threaded-likelihood",
   "metadata": {
    "scrolled": false
   },
   "outputs": [
    {
     "name": "stdout",
     "output_type": "stream",
     "text": [
      "Starbucks             5637\n",
      "McDonald's            3370\n",
      "Redbox                3190\n",
      "Subway                2024\n",
      "Payless ShoeSource    1950\n",
      "7-Eleven              1911\n",
      "KFC                   1720\n",
      "Burger King           1468\n",
      "Shell                 1296\n",
      "Pizza Hut             1032\n",
      "Name: name, dtype: int64\n",
      "not null 1138811\n",
      "rows (common classes) 198992 classes 9761\n",
      "count    842086.000000\n",
      "mean          1.352369\n",
      "std          10.421648\n",
      "min           1.000000\n",
      "50%           1.000000\n",
      "90%           2.000000\n",
      "95%           2.000000\n",
      "99%           5.000000\n",
      "99.9%        38.000000\n",
      "max        5637.000000\n",
      "Name: name, dtype: float64\n"
     ]
    }
   ],
   "source": [
    "descriptive(df_train[\"name\"])"
   ]
  },
  {
   "cell_type": "code",
   "execution_count": 8,
   "id": "endless-bacteria",
   "metadata": {
    "scrolled": true
   },
   "outputs": [
    {
     "data": {
      "image/png": "[encoded data removed]",
      "text/plain": [
       "<Figure size 432x288 with 1 Axes>"
      ]
     },
     "metadata": {
      "needs_background": "light"
     },
     "output_type": "display_data"
    }
   ],
   "source": [
    "df_train[\"name\"].dropna().apply(len).hist();"
   ]
  },
  {
   "cell_type": "markdown",
   "id": "radio-terror",
   "metadata": {},
   "source": [
    "## point_of_interest"
   ]
  },
  {
   "cell_type": "code",
   "execution_count": 9,
   "id": "brutal-factor",
   "metadata": {},
   "outputs": [
    {
     "name": "stdout",
     "output_type": "stream",
     "text": [
      "P_fb339198a31db3    332\n",
      "P_3a3fbd26e16269    199\n",
      "P_f70a0977377171    166\n",
      "P_9290e406eb58ac    145\n",
      "P_fbe61733fcdebe    132\n",
      "P_59cb47cbf3a432    130\n",
      "P_f82d146eaf21da    120\n",
      "P_40323f7f948c18    120\n",
      "P_f8a0cd160eec80    119\n",
      "P_6c385e5fd3a4b7    119\n",
      "Name: point_of_interest, dtype: int64\n",
      "not null 1138812\n",
      "rows (common classes) 61990 classes 7087\n",
      "count    739972.000000\n",
      "mean          1.538993\n",
      "std           1.318908\n",
      "min           1.000000\n",
      "50%           1.000000\n",
      "90%           2.000000\n",
      "95%           3.000000\n",
      "99%           4.000000\n",
      "99.9%        14.000000\n",
      "max         332.000000\n",
      "Name: point_of_interest, dtype: float64\n"
     ]
    }
   ],
   "source": [
    "descriptive(df_train[\"point_of_interest\"])"
   ]
  },
  {
   "cell_type": "markdown",
   "id": "mounted-stamp",
   "metadata": {},
   "source": [
    "Possible pairs per POI"
   ]
  },
  {
   "cell_type": "code",
   "execution_count": 10,
   "id": "boolean-pizza",
   "metadata": {
    "scrolled": true
   },
   "outputs": [
    {
     "name": "stdout",
     "output_type": "stream",
     "text": [
      "(314948, 4)\n"
     ]
    },
    {
     "data": {
      "text/html": [
       "<div>\n",
       "<style scoped>\n",
       "    .dataframe tbody tr th:only-of-type {\n",
       "        vertical-align: middle;\n",
       "    }\n",
       "\n",
       "    .dataframe tbody tr th {\n",
       "        vertical-align: top;\n",
       "    }\n",
       "\n",
       "    .dataframe thead th {\n",
       "        text-align: right;\n",
       "    }\n",
       "</style>\n",
       "<table border=\"1\" class=\"dataframe\">\n",
       "  <thead>\n",
       "    <tr style=\"text-align: right;\">\n",
       "      <th></th>\n",
       "      <th>point_of_interest</th>\n",
       "      <th>id</th>\n",
       "      <th>n</th>\n",
       "      <th>max_pairs</th>\n",
       "    </tr>\n",
       "  </thead>\n",
       "  <tbody>\n",
       "    <tr>\n",
       "      <th>1</th>\n",
       "      <td>P_00001c309a5e0a</td>\n",
       "      <td>{E_c1f62f2aa41ff6, E_3b8a876a004093, E_a66af820515384, E_7b12ba037d7af8}</td>\n",
       "      <td>4</td>\n",
       "      <td>6</td>\n",
       "    </tr>\n",
       "    <tr>\n",
       "      <th>3</th>\n",
       "      <td>P_0000561fe92bed</td>\n",
       "      <td>{E_2f12c350e37a69, E_e14714f4aa6461}</td>\n",
       "      <td>2</td>\n",
       "      <td>1</td>\n",
       "    </tr>\n",
       "    <tr>\n",
       "      <th>4</th>\n",
       "      <td>P_0000bccb92573c</td>\n",
       "      <td>{E_822bc2df39ec06, E_408896b60c7893}</td>\n",
       "      <td>2</td>\n",
       "      <td>1</td>\n",
       "    </tr>\n",
       "    <tr>\n",
       "      <th>5</th>\n",
       "      <td>P_0000c58a53df6d</td>\n",
       "      <td>{E_4531a43f702c7a, E_93790f039b7089}</td>\n",
       "      <td>2</td>\n",
       "      <td>1</td>\n",
       "    </tr>\n",
       "    <tr>\n",
       "      <th>7</th>\n",
       "      <td>P_00010455487fcf</td>\n",
       "      <td>{E_1078508889ada9, E_053941f0d8a50c}</td>\n",
       "      <td>2</td>\n",
       "      <td>1</td>\n",
       "    </tr>\n",
       "  </tbody>\n",
       "</table>\n",
       "</div>"
      ],
      "text/plain": [
       "  point_of_interest  \\\n",
       "1  P_00001c309a5e0a   \n",
       "3  P_0000561fe92bed   \n",
       "4  P_0000bccb92573c   \n",
       "5  P_0000c58a53df6d   \n",
       "7  P_00010455487fcf   \n",
       "\n",
       "                                                                         id  \\\n",
       "1  {E_c1f62f2aa41ff6, E_3b8a876a004093, E_a66af820515384, E_7b12ba037d7af8}   \n",
       "3                                      {E_2f12c350e37a69, E_e14714f4aa6461}   \n",
       "4                                      {E_822bc2df39ec06, E_408896b60c7893}   \n",
       "5                                      {E_4531a43f702c7a, E_93790f039b7089}   \n",
       "7                                      {E_1078508889ada9, E_053941f0d8a50c}   \n",
       "\n",
       "   n  max_pairs  \n",
       "1  4          6  \n",
       "3  2          1  \n",
       "4  2          1  \n",
       "5  2          1  \n",
       "7  2          1  "
      ]
     },
     "execution_count": 10,
     "metadata": {},
     "output_type": "execute_result"
    }
   ],
   "source": [
    "poi_df = df_train.groupby([\"point_of_interest\"])[\"id\"] \\\n",
    "    .apply(set).reset_index()\n",
    "poi_df[\"n\"] = poi_df[\"id\"].apply(len)\n",
    "poi_df = poi_df[poi_df[\"n\"] > 1]\n",
    "poi_df[\"max_pairs\"] = poi_df[\"n\"].apply(lambda x: math.comb(x, 2))\n",
    "print(poi_df.shape)\n",
    "poi_df.head()"
   ]
  },
  {
   "cell_type": "code",
   "execution_count": 11,
   "id": "reverse-acquisition",
   "metadata": {},
   "outputs": [
    {
     "data": {
      "text/plain": [
       "950503"
      ]
     },
     "execution_count": 11,
     "metadata": {},
     "output_type": "execute_result"
    }
   ],
   "source": [
    "poi_df[\"max_pairs\"].sum()"
   ]
  },
  {
   "cell_type": "code",
   "execution_count": 12,
   "id": "dutch-sauce",
   "metadata": {},
   "outputs": [
    {
     "data": {
      "image/png": "[encoded data removed]",
      "text/plain": [
       "<Figure size 432x288 with 1 Axes>"
      ]
     },
     "metadata": {
      "needs_background": "light"
     },
     "output_type": "display_data"
    }
   ],
   "source": [
    "poi_df[\"max_pairs\"].hist();"
   ]
  },
  {
   "cell_type": "markdown",
   "id": "danish-yield",
   "metadata": {},
   "source": [
    "## latitude, longitude"
   ]
  },
  {
   "cell_type": "code",
   "execution_count": 13,
   "id": "cheap-christopher",
   "metadata": {},
   "outputs": [
    {
     "data": {
      "image/png": "[encoded data removed]",
      "text/plain": [
       "<Figure size 720x432 with 1 Axes>"
      ]
     },
     "metadata": {
      "needs_background": "light"
     },
     "output_type": "display_data"
    }
   ],
   "source": [
    "fig, ax = plt.subplots(figsize=(10, 6))\n",
    "ax.scatter(\n",
    "    x=df_train[\"longitude\"], \n",
    "    y=df_train[\"latitude\"],\n",
    "    s=2);"
   ]
  },
  {
   "cell_type": "markdown",
   "id": "proved-victoria",
   "metadata": {},
   "source": [
    "same latitude, longitude and different POI"
   ]
  },
  {
   "cell_type": "code",
   "execution_count": 14,
   "id": "wrapped-glance",
   "metadata": {},
   "outputs": [
    {
     "data": {
      "text/html": [
       "<div>\n",
       "<style scoped>\n",
       "    .dataframe tbody tr th:only-of-type {\n",
       "        vertical-align: middle;\n",
       "    }\n",
       "\n",
       "    .dataframe tbody tr th {\n",
       "        vertical-align: top;\n",
       "    }\n",
       "\n",
       "    .dataframe thead th {\n",
       "        text-align: right;\n",
       "    }\n",
       "</style>\n",
       "<table border=\"1\" class=\"dataframe\">\n",
       "  <thead>\n",
       "    <tr style=\"text-align: right;\">\n",
       "      <th></th>\n",
       "      <th>longitude</th>\n",
       "      <th>latitude</th>\n",
       "      <th>point_of_interest</th>\n",
       "      <th>n</th>\n",
       "    </tr>\n",
       "  </thead>\n",
       "  <tbody>\n",
       "    <tr>\n",
       "      <th>333</th>\n",
       "      <td>-157.963325</td>\n",
       "      <td>21.355226</td>\n",
       "      <td>{P_97eeae5a7d6afd, P_41b2748302676a}</td>\n",
       "      <td>2</td>\n",
       "    </tr>\n",
       "    <tr>\n",
       "      <th>630</th>\n",
       "      <td>-157.860387</td>\n",
       "      <td>21.318409</td>\n",
       "      <td>{P_d80f2adb28e6c7, P_465f467f64099a}</td>\n",
       "      <td>2</td>\n",
       "    </tr>\n",
       "    <tr>\n",
       "      <th>632</th>\n",
       "      <td>-157.860383</td>\n",
       "      <td>21.318455</td>\n",
       "      <td>{P_cdf5ae6d3d291a, P_6d461c1dbac3a3}</td>\n",
       "      <td>2</td>\n",
       "    </tr>\n",
       "    <tr>\n",
       "      <th>633</th>\n",
       "      <td>-157.860376</td>\n",
       "      <td>21.318417</td>\n",
       "      <td>{P_818b183769a2bb, P_d4350340341c63, P_1e9fc50352ef2b}</td>\n",
       "      <td>3</td>\n",
       "    </tr>\n",
       "    <tr>\n",
       "      <th>2028</th>\n",
       "      <td>-149.830188</td>\n",
       "      <td>61.203790</td>\n",
       "      <td>{P_ecf510ef0e66df, P_270d2157e9ff52, P_55e37550f977e0}</td>\n",
       "      <td>3</td>\n",
       "    </tr>\n",
       "    <tr>\n",
       "      <th>...</th>\n",
       "      <td>...</td>\n",
       "      <td>...</td>\n",
       "      <td>...</td>\n",
       "      <td>...</td>\n",
       "    </tr>\n",
       "    <tr>\n",
       "      <th>1126115</th>\n",
       "      <td>152.384583</td>\n",
       "      <td>-24.857884</td>\n",
       "      <td>{P_4887b9082a3dcc, P_a386bc078d8b44, P_e5fec0ebaed869, P_b8ba7b49ce6e34}</td>\n",
       "      <td>4</td>\n",
       "    </tr>\n",
       "    <tr>\n",
       "      <th>1126116</th>\n",
       "      <td>152.384585</td>\n",
       "      <td>-24.857886</td>\n",
       "      <td>{P_4887b9082a3dcc, P_a386bc078d8b44, P_e5fec0ebaed869, P_b8ba7b49ce6e34}</td>\n",
       "      <td>4</td>\n",
       "    </tr>\n",
       "    <tr>\n",
       "      <th>1126470</th>\n",
       "      <td>153.023449</td>\n",
       "      <td>-27.471011</td>\n",
       "      <td>{P_f995fddd9344c9, P_0c5f9204dcc58c}</td>\n",
       "      <td>2</td>\n",
       "    </tr>\n",
       "    <tr>\n",
       "      <th>1127226</th>\n",
       "      <td>153.380412</td>\n",
       "      <td>-27.978115</td>\n",
       "      <td>{P_0874cfd8259735, P_49a2d496a9cfc7}</td>\n",
       "      <td>2</td>\n",
       "    </tr>\n",
       "    <tr>\n",
       "      <th>1127500</th>\n",
       "      <td>153.602730</td>\n",
       "      <td>-28.685694</td>\n",
       "      <td>{P_e6167d47994928, P_6bc5acff81578e}</td>\n",
       "      <td>2</td>\n",
       "    </tr>\n",
       "  </tbody>\n",
       "</table>\n",
       "<p>1641 rows × 4 columns</p>\n",
       "</div>"
      ],
      "text/plain": [
       "          longitude   latitude  \\\n",
       "333     -157.963325  21.355226   \n",
       "630     -157.860387  21.318409   \n",
       "632     -157.860383  21.318455   \n",
       "633     -157.860376  21.318417   \n",
       "2028    -149.830188  61.203790   \n",
       "...             ...        ...   \n",
       "1126115  152.384583 -24.857884   \n",
       "1126116  152.384585 -24.857886   \n",
       "1126470  153.023449 -27.471011   \n",
       "1127226  153.380412 -27.978115   \n",
       "1127500  153.602730 -28.685694   \n",
       "\n",
       "                                                                point_of_interest  \\\n",
       "333                                          {P_97eeae5a7d6afd, P_41b2748302676a}   \n",
       "630                                          {P_d80f2adb28e6c7, P_465f467f64099a}   \n",
       "632                                          {P_cdf5ae6d3d291a, P_6d461c1dbac3a3}   \n",
       "633                        {P_818b183769a2bb, P_d4350340341c63, P_1e9fc50352ef2b}   \n",
       "2028                       {P_ecf510ef0e66df, P_270d2157e9ff52, P_55e37550f977e0}   \n",
       "...                                                                           ...   \n",
       "1126115  {P_4887b9082a3dcc, P_a386bc078d8b44, P_e5fec0ebaed869, P_b8ba7b49ce6e34}   \n",
       "1126116  {P_4887b9082a3dcc, P_a386bc078d8b44, P_e5fec0ebaed869, P_b8ba7b49ce6e34}   \n",
       "1126470                                      {P_f995fddd9344c9, P_0c5f9204dcc58c}   \n",
       "1127226                                      {P_0874cfd8259735, P_49a2d496a9cfc7}   \n",
       "1127500                                      {P_e6167d47994928, P_6bc5acff81578e}   \n",
       "\n",
       "         n  \n",
       "333      2  \n",
       "630      2  \n",
       "632      2  \n",
       "633      3  \n",
       "2028     3  \n",
       "...     ..  \n",
       "1126115  4  \n",
       "1126116  4  \n",
       "1126470  2  \n",
       "1127226  2  \n",
       "1127500  2  \n",
       "\n",
       "[1641 rows x 4 columns]"
      ]
     },
     "execution_count": 14,
     "metadata": {},
     "output_type": "execute_result"
    }
   ],
   "source": [
    "df_loc = df_train.groupby([\"longitude\", \"latitude\"])[\"point_of_interest\"].apply(set)\n",
    "df_loc = df_loc.reset_index()\n",
    "df_loc[\"n\"] = df_loc[\"point_of_interest\"].apply(len)\n",
    "df_loc = df_loc[df_loc[\"n\"] > 1]\n",
    "df_loc"
   ]
  },
  {
   "cell_type": "code",
   "execution_count": 15,
   "id": "republican-contact",
   "metadata": {},
   "outputs": [
    {
     "data": {
      "text/plain": [
       "4481"
      ]
     },
     "execution_count": 15,
     "metadata": {},
     "output_type": "execute_result"
    }
   ],
   "source": [
    "df_loc[\"n\"].sum()"
   ]
  },
  {
   "cell_type": "markdown",
   "id": "fiscal-ministry",
   "metadata": {},
   "source": [
    "## address"
   ]
  },
  {
   "cell_type": "code",
   "execution_count": 16,
   "id": "formal-orleans",
   "metadata": {},
   "outputs": [
    {
     "name": "stdout",
     "output_type": "stream",
     "text": [
      "Terminal 1              261\n",
      "日本                      221\n",
      "Siam Paragon            174\n",
      "Terminal 2              169\n",
      "丸の内1-9-1                159\n",
      "Terminal 3              137\n",
      "Sunway Pyramid          134\n",
      "The Mall Bangkapi       121\n",
      "Shopping Iguatemi       120\n",
      "CentralPlaza Pinklao    116\n",
      "Name: address, dtype: int64\n",
      "not null 742191\n",
      "rows (common classes) 85629 classes 8459\n",
      "count    558154.000000\n",
      "mean          1.329724\n",
      "std           1.765149\n",
      "min           1.000000\n",
      "50%           1.000000\n",
      "90%           2.000000\n",
      "95%           2.000000\n",
      "99%           6.000000\n",
      "99.9%        22.000000\n",
      "max         261.000000\n",
      "Name: address, dtype: float64\n"
     ]
    }
   ],
   "source": [
    "descriptive(df_train[\"address\"])"
   ]
  },
  {
   "cell_type": "code",
   "execution_count": 17,
   "id": "enclosed-access",
   "metadata": {},
   "outputs": [
    {
     "data": {
      "image/png": "[encoded data removed]",
      "text/plain": [
       "<Figure size 432x288 with 1 Axes>"
      ]
     },
     "metadata": {
      "needs_background": "light"
     },
     "output_type": "display_data"
    }
   ],
   "source": [
    "df_train[\"address\"].dropna().apply(len).hist();"
   ]
  },
  {
   "cell_type": "markdown",
   "id": "detected-diabetes",
   "metadata": {},
   "source": [
    "## city"
   ]
  },
  {
   "cell_type": "code",
   "execution_count": 18,
   "id": "surrounded-namibia",
   "metadata": {},
   "outputs": [
    {
     "name": "stdout",
     "output_type": "stream",
     "text": [
      "Singapore          10259\n",
      "Москва              9643\n",
      "Bandung             8745\n",
      "New York            8666\n",
      "İstanbul            6455\n",
      "Санкт-Петербург     6255\n",
      "Kuala Lumpur        5436\n",
      "São Paulo           5249\n",
      "Ankara              3889\n",
      "Surabaya            3844\n",
      "Name: city, dtype: int64\n",
      "not null 839623\n",
      "rows (common classes) 757039 classes 15496\n",
      "count    68105.000000\n",
      "mean        12.328361\n",
      "std        116.229930\n",
      "min          1.000000\n",
      "50%          2.000000\n",
      "90%         14.000000\n",
      "95%         33.000000\n",
      "99%        171.000000\n",
      "99.9%     1290.896000\n",
      "max      10259.000000\n",
      "Name: city, dtype: float64\n"
     ]
    }
   ],
   "source": [
    "descriptive(df_train[\"city\"])"
   ]
  },
  {
   "cell_type": "markdown",
   "id": "beginning-character",
   "metadata": {},
   "source": [
    "## state"
   ]
  },
  {
   "cell_type": "code",
   "execution_count": 19,
   "id": "virgin-durham",
   "metadata": {},
   "outputs": [
    {
     "name": "stdout",
     "output_type": "stream",
     "text": [
      "CA          28863\n",
      "NY          21771\n",
      "FL          17204\n",
      "TX          17001\n",
      "東京都         15868\n",
      "Bangkok     11784\n",
      "PA          10501\n",
      "IL           9868\n",
      "MI           8073\n",
      "Selangor     7837\n",
      "Name: state, dtype: int64\n",
      "not null 718226\n",
      "rows (common classes) 698735 classes 4547\n",
      "count    17596.000000\n",
      "mean        40.817572\n",
      "std        464.868046\n",
      "min          1.000000\n",
      "50%          1.000000\n",
      "90%         24.000000\n",
      "95%         72.000000\n",
      "99%        632.050000\n",
      "99.9%     6134.225000\n",
      "max      28863.000000\n",
      "Name: state, dtype: float64\n"
     ]
    }
   ],
   "source": [
    "descriptive(df_train[\"state\"])"
   ]
  },
  {
   "cell_type": "markdown",
   "id": "burning-costume",
   "metadata": {},
   "source": [
    "## zip"
   ]
  },
  {
   "cell_type": "code",
   "execution_count": 20,
   "id": "rising-parallel",
   "metadata": {},
   "outputs": [
    {
     "name": "stdout",
     "output_type": "stream",
     "text": [
      "9000     1885\n",
      "10330    1417\n",
      "10110    1235\n",
      "10400    1184\n",
      "2000     1181\n",
      "1000     1005\n",
      "3000      903\n",
      "11000     876\n",
      "10900     840\n",
      "6000      761\n",
      "Name: zip, dtype: int64\n",
      "not null 543386\n",
      "rows (common classes) 427542 classes 19864\n",
      "count    93329.000000\n",
      "mean         5.822263\n",
      "std         21.354335\n",
      "min          1.000000\n",
      "50%          2.000000\n",
      "90%         12.000000\n",
      "95%         24.000000\n",
      "99%         64.000000\n",
      "99.9%      248.000000\n",
      "max       1885.000000\n",
      "Name: zip, dtype: float64\n"
     ]
    }
   ],
   "source": [
    "descriptive(df_train[\"zip\"])"
   ]
  },
  {
   "cell_type": "code",
   "execution_count": 21,
   "id": "official-lightning",
   "metadata": {
    "scrolled": true
   },
   "outputs": [
    {
     "data": {
      "image/png": "[encoded data removed]",
      "text/plain": [
       "<Figure size 432x288 with 1 Axes>"
      ]
     },
     "metadata": {
      "needs_background": "light"
     },
     "output_type": "display_data"
    }
   ],
   "source": [
    "df_train[\"zip\"].dropna().apply(len).hist();"
   ]
  },
  {
   "cell_type": "markdown",
   "id": "anticipated-serbia",
   "metadata": {},
   "source": [
    "## country"
   ]
  },
  {
   "cell_type": "code",
   "execution_count": 22,
   "id": "civic-father",
   "metadata": {},
   "outputs": [
    {
     "name": "stdout",
     "output_type": "stream",
     "text": [
      "US    245284\n",
      "TR    115177\n",
      "ID    110796\n",
      "JP     70032\n",
      "TH     58808\n",
      "RU     57030\n",
      "BR     51241\n",
      "MY     46326\n",
      "BE     25821\n",
      "GB     25544\n",
      "Name: country, dtype: int64\n",
      "not null 1138801\n",
      "rows (common classes) 1138730 classes 190\n",
      "count       221.000000\n",
      "mean       5152.945701\n",
      "std       21442.432855\n",
      "min           1.000000\n",
      "50%         113.000000\n",
      "90%        7788.000000\n",
      "95%       21396.000000\n",
      "99%      102643.200000\n",
      "99.9%    216660.460000\n",
      "max      245284.000000\n",
      "Name: country, dtype: float64\n"
     ]
    }
   ],
   "source": [
    "descriptive(df_train[\"country\"])"
   ]
  },
  {
   "cell_type": "markdown",
   "id": "compatible-inquiry",
   "metadata": {},
   "source": [
    "## url"
   ]
  },
  {
   "cell_type": "code",
   "execution_count": 23,
   "id": "front-element",
   "metadata": {},
   "outputs": [
    {
     "name": "stdout",
     "output_type": "stream",
     "text": [
      "https://www.sej.co.jp           921\n",
      "http://www.7eleven.co.th        833\n",
      "http://www.payless.com/         687\n",
      "https://www.dunkindonuts.com    643\n",
      "https://www.family.co.jp        611\n",
      "http://www.redbox.com           601\n",
      "http://www.sberbank.ru          587\n",
      "http://www.starbucks.com/       444\n",
      "http://www.isbank.com.tr        427\n",
      "https://www.kroger.com          377\n",
      "Name: url, dtype: int64\n",
      "not null 267724\n",
      "rows (common classes) 77028 classes 4086\n",
      "count    171222.000000\n",
      "mean          1.563607\n",
      "std           6.929624\n",
      "min           1.000000\n",
      "50%           1.000000\n",
      "90%           2.000000\n",
      "95%           2.000000\n",
      "99%          10.000000\n",
      "99.9%        69.000000\n",
      "max         921.000000\n",
      "Name: url, dtype: float64\n"
     ]
    }
   ],
   "source": [
    "descriptive(df_train[\"url\"])"
   ]
  },
  {
   "cell_type": "code",
   "execution_count": 24,
   "id": "iraqi-panama",
   "metadata": {},
   "outputs": [
    {
     "data": {
      "image/png": "[encoded data removed]",
      "text/plain": [
       "<Figure size 432x288 with 1 Axes>"
      ]
     },
     "metadata": {
      "needs_background": "light"
     },
     "output_type": "display_data"
    }
   ],
   "source": [
    "df_train[\"url\"].dropna().apply(len).hist();"
   ]
  },
  {
   "cell_type": "markdown",
   "id": "enhanced-mobile",
   "metadata": {},
   "source": [
    "## phone"
   ]
  },
  {
   "cell_type": "code",
   "execution_count": 25,
   "id": "filled-cheese",
   "metadata": {},
   "outputs": [
    {
     "name": "stdout",
     "output_type": "stream",
     "text": [
      "8667332693        1875\n",
      "+18667332693      1010\n",
      "+18002758777       559\n",
      "+498002000015      365\n",
      "+4922120199959     363\n",
      "820820001          313\n",
      "+3270220200        263\n",
      "+864008206998      219\n",
      "+33149461720       195\n",
      "+78003330303       193\n",
      "Name: phone, dtype: int64\n",
      "not null 342855\n",
      "rows (common classes) 18943 classes 972\n",
      "count    293454.000000\n",
      "mean          1.168343\n",
      "std           4.478935\n",
      "min           1.000000\n",
      "50%           1.000000\n",
      "90%           2.000000\n",
      "95%           2.000000\n",
      "99%           2.000000\n",
      "99.9%        12.000000\n",
      "max        1875.000000\n",
      "Name: phone, dtype: float64\n"
     ]
    }
   ],
   "source": [
    "descriptive(df_train[\"phone\"])"
   ]
  },
  {
   "cell_type": "code",
   "execution_count": 26,
   "id": "educational-fourth",
   "metadata": {},
   "outputs": [
    {
     "data": {
      "text/plain": [
       "<AxesSubplot:>"
      ]
     },
     "execution_count": 26,
     "metadata": {},
     "output_type": "execute_result"
    },
    {
     "data": {
      "image/png": "[encoded data removed]",
      "text/plain": [
       "<Figure size 432x288 with 1 Axes>"
      ]
     },
     "metadata": {
      "needs_background": "light"
     },
     "output_type": "display_data"
    }
   ],
   "source": [
    "df_train[\"phone\"].dropna().apply(len).hist()"
   ]
  },
  {
   "cell_type": "markdown",
   "id": "metropolitan-investor",
   "metadata": {},
   "source": [
    "## categories"
   ]
  },
  {
   "cell_type": "code",
   "execution_count": 27,
   "id": "another-small",
   "metadata": {
    "scrolled": false
   },
   "outputs": [
    {
     "name": "stdout",
     "output_type": "stream",
     "text": [
      "residential buildings (apartments / condos)    25481\n",
      "banks                                          21494\n",
      "college classrooms                             21438\n",
      "cafés                                          17805\n",
      "coffee shops                                   17097\n",
      "offices                                        16954\n",
      "hotels                                         16583\n",
      "convenience stores                             13530\n",
      "buildings                                      11981\n",
      "salons / barbershops                           11922\n",
      "Name: categories, dtype: int64\n",
      "not null 1040505\n",
      "rows (common classes) 978473 classes 6407\n",
      "count    52578.000000\n",
      "mean        19.789741\n",
      "std        327.974023\n",
      "min          1.000000\n",
      "50%          1.000000\n",
      "90%          6.000000\n",
      "95%         14.000000\n",
      "99%        187.000000\n",
      "99.9%     3799.998000\n",
      "max      25481.000000\n",
      "Name: categories, dtype: float64\n"
     ]
    }
   ],
   "source": [
    "descriptive(df_train[\"categories\"].str.lower())"
   ]
  },
  {
   "cell_type": "markdown",
   "id": "killing-highland",
   "metadata": {},
   "source": [
    "## Examples"
   ]
  },
  {
   "cell_type": "code",
   "execution_count": 28,
   "id": "hydraulic-sharing",
   "metadata": {},
   "outputs": [],
   "source": [
    "pois = df_train[\"point_of_interest\"].value_counts()\n",
    "pois = pois[pois > 1].index.values\n",
    "np.random.shuffle(pois)"
   ]
  },
  {
   "cell_type": "code",
   "execution_count": 29,
   "id": "collected-charleston",
   "metadata": {},
   "outputs": [
    {
     "data": {
      "text/html": [
       "<div>\n",
       "<style scoped>\n",
       "    .dataframe tbody tr th:only-of-type {\n",
       "        vertical-align: middle;\n",
       "    }\n",
       "\n",
       "    .dataframe tbody tr th {\n",
       "        vertical-align: top;\n",
       "    }\n",
       "\n",
       "    .dataframe thead th {\n",
       "        text-align: right;\n",
       "    }\n",
       "</style>\n",
       "<table border=\"1\" class=\"dataframe\">\n",
       "  <thead>\n",
       "    <tr style=\"text-align: right;\">\n",
       "      <th></th>\n",
       "      <th>id</th>\n",
       "      <th>name</th>\n",
       "      <th>latitude</th>\n",
       "      <th>longitude</th>\n",
       "      <th>address</th>\n",
       "      <th>city</th>\n",
       "      <th>state</th>\n",
       "      <th>zip</th>\n",
       "      <th>country</th>\n",
       "      <th>url</th>\n",
       "      <th>phone</th>\n",
       "      <th>categories</th>\n",
       "      <th>point_of_interest</th>\n",
       "      <th>validation</th>\n",
       "      <th>fold</th>\n",
       "    </tr>\n",
       "  </thead>\n",
       "  <tbody>\n",
       "    <tr>\n",
       "      <th>293192</th>\n",
       "      <td>E_41d662cfafeacd</td>\n",
       "      <td>Gym at the Standard</td>\n",
       "      <td>39.295624</td>\n",
       "      <td>-76.613638</td>\n",
       "      <td>501 Saint Paul St</td>\n",
       "      <td>Baltimore</td>\n",
       "      <td>MD</td>\n",
       "      <td>21202</td>\n",
       "      <td>US</td>\n",
       "      <td>NaN</td>\n",
       "      <td>NaN</td>\n",
       "      <td>Gyms or Fitness Centers, Gyms</td>\n",
       "      <td>P_cecade7c3b7b24</td>\n",
       "      <td>0</td>\n",
       "      <td>2</td>\n",
       "    </tr>\n",
       "    <tr>\n",
       "      <th>901373</th>\n",
       "      <td>E_ca7775572899c1</td>\n",
       "      <td>The Standard Fitness Center</td>\n",
       "      <td>39.295230</td>\n",
       "      <td>-76.613922</td>\n",
       "      <td>501 Saint Paul St</td>\n",
       "      <td>Baltimore</td>\n",
       "      <td>MD</td>\n",
       "      <td>21202</td>\n",
       "      <td>US</td>\n",
       "      <td>NaN</td>\n",
       "      <td>NaN</td>\n",
       "      <td>Gyms</td>\n",
       "      <td>P_cecade7c3b7b24</td>\n",
       "      <td>0</td>\n",
       "      <td>2</td>\n",
       "    </tr>\n",
       "  </tbody>\n",
       "</table>\n",
       "</div>"
      ],
      "text/plain": [
       "                      id                         name   latitude  longitude  \\\n",
       "293192  E_41d662cfafeacd          Gym at the Standard  39.295624 -76.613638   \n",
       "901373  E_ca7775572899c1  The Standard Fitness Center  39.295230 -76.613922   \n",
       "\n",
       "                  address       city state    zip country  url phone  \\\n",
       "293192  501 Saint Paul St  Baltimore    MD  21202      US  NaN   NaN   \n",
       "901373  501 Saint Paul St  Baltimore    MD  21202      US  NaN   NaN   \n",
       "\n",
       "                           categories point_of_interest  validation  fold  \n",
       "293192  Gyms or Fitness Centers, Gyms  P_cecade7c3b7b24           0     2  \n",
       "901373                           Gyms  P_cecade7c3b7b24           0     2  "
      ]
     },
     "execution_count": 29,
     "metadata": {},
     "output_type": "execute_result"
    }
   ],
   "source": [
    "df_train[df_train[\"point_of_interest\"] == pois[0]]"
   ]
  },
  {
   "cell_type": "code",
   "execution_count": 30,
   "id": "excellent-titanium",
   "metadata": {},
   "outputs": [
    {
     "data": {
      "text/html": [
       "<div>\n",
       "<style scoped>\n",
       "    .dataframe tbody tr th:only-of-type {\n",
       "        vertical-align: middle;\n",
       "    }\n",
       "\n",
       "    .dataframe tbody tr th {\n",
       "        vertical-align: top;\n",
       "    }\n",
       "\n",
       "    .dataframe thead th {\n",
       "        text-align: right;\n",
       "    }\n",
       "</style>\n",
       "<table border=\"1\" class=\"dataframe\">\n",
       "  <thead>\n",
       "    <tr style=\"text-align: right;\">\n",
       "      <th></th>\n",
       "      <th>id</th>\n",
       "      <th>name</th>\n",
       "      <th>latitude</th>\n",
       "      <th>longitude</th>\n",
       "      <th>address</th>\n",
       "      <th>city</th>\n",
       "      <th>state</th>\n",
       "      <th>zip</th>\n",
       "      <th>country</th>\n",
       "      <th>url</th>\n",
       "      <th>phone</th>\n",
       "      <th>categories</th>\n",
       "      <th>point_of_interest</th>\n",
       "      <th>validation</th>\n",
       "      <th>fold</th>\n",
       "    </tr>\n",
       "  </thead>\n",
       "  <tbody>\n",
       "    <tr>\n",
       "      <th>589195</th>\n",
       "      <td>E_846ec287a8c04a</td>\n",
       "      <td>KFC</td>\n",
       "      <td>36.144176</td>\n",
       "      <td>-80.299120</td>\n",
       "      <td>2817 Reynolda Rd</td>\n",
       "      <td>Winston Salem</td>\n",
       "      <td>NC</td>\n",
       "      <td>27106</td>\n",
       "      <td>US</td>\n",
       "      <td>https://locations.kfc.com/nc/winston-salem/2817-reynolda-rd</td>\n",
       "      <td>3367770531</td>\n",
       "      <td>Fried Chicken Joints, Fast Food Restaurants, Restaurants</td>\n",
       "      <td>P_18b3a1ceb19a08</td>\n",
       "      <td>0</td>\n",
       "      <td>3</td>\n",
       "    </tr>\n",
       "    <tr>\n",
       "      <th>868418</th>\n",
       "      <td>E_c312b70c268e3c</td>\n",
       "      <td>KFC</td>\n",
       "      <td>36.144181</td>\n",
       "      <td>-80.299085</td>\n",
       "      <td>2817 Reynolda Rd</td>\n",
       "      <td>Winston Salem</td>\n",
       "      <td>NC</td>\n",
       "      <td>27106</td>\n",
       "      <td>US</td>\n",
       "      <td>https://www.kfc.com/store-locator?query=27106</td>\n",
       "      <td>+13367770531</td>\n",
       "      <td>Fried Chicken Joints, Fast Food Restaurants, Restaurants</td>\n",
       "      <td>P_18b3a1ceb19a08</td>\n",
       "      <td>0</td>\n",
       "      <td>3</td>\n",
       "    </tr>\n",
       "  </tbody>\n",
       "</table>\n",
       "</div>"
      ],
      "text/plain": [
       "                      id name   latitude  longitude           address  \\\n",
       "589195  E_846ec287a8c04a  KFC  36.144176 -80.299120  2817 Reynolda Rd   \n",
       "868418  E_c312b70c268e3c  KFC  36.144181 -80.299085  2817 Reynolda Rd   \n",
       "\n",
       "                 city state    zip country  \\\n",
       "589195  Winston Salem    NC  27106      US   \n",
       "868418  Winston Salem    NC  27106      US   \n",
       "\n",
       "                                                                url  \\\n",
       "589195  https://locations.kfc.com/nc/winston-salem/2817-reynolda-rd   \n",
       "868418                https://www.kfc.com/store-locator?query=27106   \n",
       "\n",
       "               phone  \\\n",
       "589195    3367770531   \n",
       "868418  +13367770531   \n",
       "\n",
       "                                                      categories  \\\n",
       "589195  Fried Chicken Joints, Fast Food Restaurants, Restaurants   \n",
       "868418  Fried Chicken Joints, Fast Food Restaurants, Restaurants   \n",
       "\n",
       "       point_of_interest  validation  fold  \n",
       "589195  P_18b3a1ceb19a08           0     3  \n",
       "868418  P_18b3a1ceb19a08           0     3  "
      ]
     },
     "execution_count": 30,
     "metadata": {},
     "output_type": "execute_result"
    }
   ],
   "source": [
    "df_train[df_train[\"point_of_interest\"] == pois[1]]"
   ]
  },
  {
   "cell_type": "code",
   "execution_count": 31,
   "id": "democratic-device",
   "metadata": {},
   "outputs": [
    {
     "data": {
      "text/html": [
       "<div>\n",
       "<style scoped>\n",
       "    .dataframe tbody tr th:only-of-type {\n",
       "        vertical-align: middle;\n",
       "    }\n",
       "\n",
       "    .dataframe tbody tr th {\n",
       "        vertical-align: top;\n",
       "    }\n",
       "\n",
       "    .dataframe thead th {\n",
       "        text-align: right;\n",
       "    }\n",
       "</style>\n",
       "<table border=\"1\" class=\"dataframe\">\n",
       "  <thead>\n",
       "    <tr style=\"text-align: right;\">\n",
       "      <th></th>\n",
       "      <th>id</th>\n",
       "      <th>name</th>\n",
       "      <th>latitude</th>\n",
       "      <th>longitude</th>\n",
       "      <th>address</th>\n",
       "      <th>city</th>\n",
       "      <th>state</th>\n",
       "      <th>zip</th>\n",
       "      <th>country</th>\n",
       "      <th>url</th>\n",
       "      <th>phone</th>\n",
       "      <th>categories</th>\n",
       "      <th>point_of_interest</th>\n",
       "      <th>validation</th>\n",
       "      <th>fold</th>\n",
       "    </tr>\n",
       "  </thead>\n",
       "  <tbody>\n",
       "    <tr>\n",
       "      <th>136774</th>\n",
       "      <td>E_1ea61231bf6ff3</td>\n",
       "      <td>Паром</td>\n",
       "      <td>45.341518</td>\n",
       "      <td>36.673542</td>\n",
       "      <td>NaN</td>\n",
       "      <td>NaN</td>\n",
       "      <td>NaN</td>\n",
       "      <td>NaN</td>\n",
       "      <td>RU</td>\n",
       "      <td>NaN</td>\n",
       "      <td>NaN</td>\n",
       "      <td>Boats or Ferries</td>\n",
       "      <td>P_418fe7e8bf7e5f</td>\n",
       "      <td>0</td>\n",
       "      <td>1</td>\n",
       "    </tr>\n",
       "    <tr>\n",
       "      <th>634768</th>\n",
       "      <td>E_8eb7d12cc889b6</td>\n",
       "      <td>\"Паром \\\"Гликофилоза\\\"\"</td>\n",
       "      <td>45.363846</td>\n",
       "      <td>36.626601</td>\n",
       "      <td>NaN</td>\n",
       "      <td>Керчь</td>\n",
       "      <td>NaN</td>\n",
       "      <td>NaN</td>\n",
       "      <td>UA</td>\n",
       "      <td>NaN</td>\n",
       "      <td>NaN</td>\n",
       "      <td>Boats or Ferries</td>\n",
       "      <td>P_418fe7e8bf7e5f</td>\n",
       "      <td>0</td>\n",
       "      <td>1</td>\n",
       "    </tr>\n",
       "    <tr>\n",
       "      <th>734645</th>\n",
       "      <td>E_a509fe0f85dbd9</td>\n",
       "      <td>Паром «Glykofilousa III»</td>\n",
       "      <td>45.341374</td>\n",
       "      <td>36.672875</td>\n",
       "      <td>Керченский пролив</td>\n",
       "      <td>Керчь</td>\n",
       "      <td>NaN</td>\n",
       "      <td>NaN</td>\n",
       "      <td>RU</td>\n",
       "      <td>NaN</td>\n",
       "      <td>NaN</td>\n",
       "      <td>Boats or Ferries</td>\n",
       "      <td>P_418fe7e8bf7e5f</td>\n",
       "      <td>0</td>\n",
       "      <td>1</td>\n",
       "    </tr>\n",
       "  </tbody>\n",
       "</table>\n",
       "</div>"
      ],
      "text/plain": [
       "                      id                      name   latitude  longitude  \\\n",
       "136774  E_1ea61231bf6ff3                     Паром  45.341518  36.673542   \n",
       "634768  E_8eb7d12cc889b6   \"Паром \\\"Гликофилоза\\\"\"  45.363846  36.626601   \n",
       "734645  E_a509fe0f85dbd9  Паром «Glykofilousa III»  45.341374  36.672875   \n",
       "\n",
       "                  address   city state  zip country  url phone  \\\n",
       "136774                NaN    NaN   NaN  NaN      RU  NaN   NaN   \n",
       "634768                NaN  Керчь   NaN  NaN      UA  NaN   NaN   \n",
       "734645  Керченский пролив  Керчь   NaN  NaN      RU  NaN   NaN   \n",
       "\n",
       "              categories point_of_interest  validation  fold  \n",
       "136774  Boats or Ferries  P_418fe7e8bf7e5f           0     1  \n",
       "634768  Boats or Ferries  P_418fe7e8bf7e5f           0     1  \n",
       "734645  Boats or Ferries  P_418fe7e8bf7e5f           0     1  "
      ]
     },
     "execution_count": 31,
     "metadata": {},
     "output_type": "execute_result"
    }
   ],
   "source": [
    "df_train[df_train[\"point_of_interest\"] == pois[2]]"
   ]
  },
  {
   "cell_type": "code",
   "execution_count": 32,
   "id": "civil-balance",
   "metadata": {},
   "outputs": [
    {
     "data": {
      "text/html": [
       "<div>\n",
       "<style scoped>\n",
       "    .dataframe tbody tr th:only-of-type {\n",
       "        vertical-align: middle;\n",
       "    }\n",
       "\n",
       "    .dataframe tbody tr th {\n",
       "        vertical-align: top;\n",
       "    }\n",
       "\n",
       "    .dataframe thead th {\n",
       "        text-align: right;\n",
       "    }\n",
       "</style>\n",
       "<table border=\"1\" class=\"dataframe\">\n",
       "  <thead>\n",
       "    <tr style=\"text-align: right;\">\n",
       "      <th></th>\n",
       "      <th>id</th>\n",
       "      <th>name</th>\n",
       "      <th>latitude</th>\n",
       "      <th>longitude</th>\n",
       "      <th>address</th>\n",
       "      <th>city</th>\n",
       "      <th>state</th>\n",
       "      <th>zip</th>\n",
       "      <th>country</th>\n",
       "      <th>url</th>\n",
       "      <th>phone</th>\n",
       "      <th>categories</th>\n",
       "      <th>point_of_interest</th>\n",
       "      <th>validation</th>\n",
       "      <th>fold</th>\n",
       "    </tr>\n",
       "  </thead>\n",
       "  <tbody>\n",
       "    <tr>\n",
       "      <th>10989</th>\n",
       "      <td>E_02809c2404a840</td>\n",
       "      <td>W Austin</td>\n",
       "      <td>30.265607</td>\n",
       "      <td>-97.746569</td>\n",
       "      <td>200 Lavaca St</td>\n",
       "      <td>Austin</td>\n",
       "      <td>TX</td>\n",
       "      <td>78701</td>\n",
       "      <td>US</td>\n",
       "      <td>https://www.marriott.com/hotels/travel/auswh-w-austin/?y_source=1_MTUwMjg0My00NDAtbG9jYXRpb24ud2Vic2l0ZQ==</td>\n",
       "      <td>5125423600</td>\n",
       "      <td>Hotels, Resorts, Event Spaces</td>\n",
       "      <td>P_8351fe64a176c7</td>\n",
       "      <td>0</td>\n",
       "      <td>2</td>\n",
       "    </tr>\n",
       "    <tr>\n",
       "      <th>66195</th>\n",
       "      <td>E_0ed3298d06f0bb</td>\n",
       "      <td>W hotel austin hotel</td>\n",
       "      <td>30.324223</td>\n",
       "      <td>-97.705928</td>\n",
       "      <td>NaN</td>\n",
       "      <td>Austin</td>\n",
       "      <td>TX</td>\n",
       "      <td>78752</td>\n",
       "      <td>US</td>\n",
       "      <td>NaN</td>\n",
       "      <td>NaN</td>\n",
       "      <td>Hotels</td>\n",
       "      <td>P_8351fe64a176c7</td>\n",
       "      <td>0</td>\n",
       "      <td>2</td>\n",
       "    </tr>\n",
       "    <tr>\n",
       "      <th>198321</th>\n",
       "      <td>E_2c8085918241de</td>\n",
       "      <td>\"The \\\"W\\\"\"</td>\n",
       "      <td>30.434167</td>\n",
       "      <td>-97.768499</td>\n",
       "      <td>NaN</td>\n",
       "      <td>Austin</td>\n",
       "      <td>TX</td>\n",
       "      <td>78757</td>\n",
       "      <td>US</td>\n",
       "      <td>NaN</td>\n",
       "      <td>NaN</td>\n",
       "      <td>NaN</td>\n",
       "      <td>P_8351fe64a176c7</td>\n",
       "      <td>0</td>\n",
       "      <td>2</td>\n",
       "    </tr>\n",
       "  </tbody>\n",
       "</table>\n",
       "</div>"
      ],
      "text/plain": [
       "                      id                  name   latitude  longitude  \\\n",
       "10989   E_02809c2404a840              W Austin  30.265607 -97.746569   \n",
       "66195   E_0ed3298d06f0bb  W hotel austin hotel  30.324223 -97.705928   \n",
       "198321  E_2c8085918241de           \"The \\\"W\\\"\"  30.434167 -97.768499   \n",
       "\n",
       "              address    city state    zip country  \\\n",
       "10989   200 Lavaca St  Austin    TX  78701      US   \n",
       "66195             NaN  Austin    TX  78752      US   \n",
       "198321            NaN  Austin    TX  78757      US   \n",
       "\n",
       "                                                                                                               url  \\\n",
       "10989   https://www.marriott.com/hotels/travel/auswh-w-austin/?y_source=1_MTUwMjg0My00NDAtbG9jYXRpb24ud2Vic2l0ZQ==   \n",
       "66195                                                                                                          NaN   \n",
       "198321                                                                                                         NaN   \n",
       "\n",
       "             phone                     categories point_of_interest  \\\n",
       "10989   5125423600  Hotels, Resorts, Event Spaces  P_8351fe64a176c7   \n",
       "66195          NaN                         Hotels  P_8351fe64a176c7   \n",
       "198321         NaN                            NaN  P_8351fe64a176c7   \n",
       "\n",
       "        validation  fold  \n",
       "10989            0     2  \n",
       "66195            0     2  \n",
       "198321           0     2  "
      ]
     },
     "execution_count": 32,
     "metadata": {},
     "output_type": "execute_result"
    }
   ],
   "source": [
    "df_train[df_train[\"point_of_interest\"] == pois[3]]"
   ]
  },
  {
   "cell_type": "code",
   "execution_count": 33,
   "id": "irish-individual",
   "metadata": {},
   "outputs": [
    {
     "data": {
      "text/html": [
       "<div>\n",
       "<style scoped>\n",
       "    .dataframe tbody tr th:only-of-type {\n",
       "        vertical-align: middle;\n",
       "    }\n",
       "\n",
       "    .dataframe tbody tr th {\n",
       "        vertical-align: top;\n",
       "    }\n",
       "\n",
       "    .dataframe thead th {\n",
       "        text-align: right;\n",
       "    }\n",
       "</style>\n",
       "<table border=\"1\" class=\"dataframe\">\n",
       "  <thead>\n",
       "    <tr style=\"text-align: right;\">\n",
       "      <th></th>\n",
       "      <th>id</th>\n",
       "      <th>name</th>\n",
       "      <th>latitude</th>\n",
       "      <th>longitude</th>\n",
       "      <th>address</th>\n",
       "      <th>city</th>\n",
       "      <th>state</th>\n",
       "      <th>zip</th>\n",
       "      <th>country</th>\n",
       "      <th>url</th>\n",
       "      <th>phone</th>\n",
       "      <th>categories</th>\n",
       "      <th>point_of_interest</th>\n",
       "      <th>validation</th>\n",
       "      <th>fold</th>\n",
       "    </tr>\n",
       "  </thead>\n",
       "  <tbody>\n",
       "    <tr>\n",
       "      <th>43335</th>\n",
       "      <td>E_09b21a2de92ed4</td>\n",
       "      <td>Super China Buffet</td>\n",
       "      <td>40.045019</td>\n",
       "      <td>-85.995898</td>\n",
       "      <td>17673 Cumberland Rd</td>\n",
       "      <td>Noblesville</td>\n",
       "      <td>IN</td>\n",
       "      <td>46060</td>\n",
       "      <td>US</td>\n",
       "      <td>NaN</td>\n",
       "      <td>3177761335</td>\n",
       "      <td>Chinese Restaurants</td>\n",
       "      <td>P_ce0ac8001ebde6</td>\n",
       "      <td>1</td>\n",
       "      <td>-1</td>\n",
       "    </tr>\n",
       "    <tr>\n",
       "      <th>569749</th>\n",
       "      <td>E_8010ac9ab0ef22</td>\n",
       "      <td>Super China Buffet</td>\n",
       "      <td>39.899941</td>\n",
       "      <td>-86.111849</td>\n",
       "      <td>NaN</td>\n",
       "      <td>Noblesville</td>\n",
       "      <td>IN</td>\n",
       "      <td>46060</td>\n",
       "      <td>US</td>\n",
       "      <td>NaN</td>\n",
       "      <td>NaN</td>\n",
       "      <td>Chinese Restaurants</td>\n",
       "      <td>P_ce0ac8001ebde6</td>\n",
       "      <td>1</td>\n",
       "      <td>-1</td>\n",
       "    </tr>\n",
       "  </tbody>\n",
       "</table>\n",
       "</div>"
      ],
      "text/plain": [
       "                      id                name   latitude  longitude  \\\n",
       "43335   E_09b21a2de92ed4  Super China Buffet  40.045019 -85.995898   \n",
       "569749  E_8010ac9ab0ef22  Super China Buffet  39.899941 -86.111849   \n",
       "\n",
       "                    address         city state    zip country  url  \\\n",
       "43335   17673 Cumberland Rd  Noblesville    IN  46060      US  NaN   \n",
       "569749                  NaN  Noblesville    IN  46060      US  NaN   \n",
       "\n",
       "             phone           categories point_of_interest  validation  fold  \n",
       "43335   3177761335  Chinese Restaurants  P_ce0ac8001ebde6           1    -1  \n",
       "569749         NaN  Chinese Restaurants  P_ce0ac8001ebde6           1    -1  "
      ]
     },
     "execution_count": 33,
     "metadata": {},
     "output_type": "execute_result"
    }
   ],
   "source": [
    "df_train[df_train[\"point_of_interest\"] == pois[4]]"
   ]
  },
  {
   "cell_type": "code",
   "execution_count": 34,
   "id": "unusual-disclosure",
   "metadata": {},
   "outputs": [
    {
     "data": {
      "text/html": [
       "<div>\n",
       "<style scoped>\n",
       "    .dataframe tbody tr th:only-of-type {\n",
       "        vertical-align: middle;\n",
       "    }\n",
       "\n",
       "    .dataframe tbody tr th {\n",
       "        vertical-align: top;\n",
       "    }\n",
       "\n",
       "    .dataframe thead th {\n",
       "        text-align: right;\n",
       "    }\n",
       "</style>\n",
       "<table border=\"1\" class=\"dataframe\">\n",
       "  <thead>\n",
       "    <tr style=\"text-align: right;\">\n",
       "      <th></th>\n",
       "      <th>id</th>\n",
       "      <th>name</th>\n",
       "      <th>latitude</th>\n",
       "      <th>longitude</th>\n",
       "      <th>address</th>\n",
       "      <th>city</th>\n",
       "      <th>state</th>\n",
       "      <th>zip</th>\n",
       "      <th>country</th>\n",
       "      <th>url</th>\n",
       "      <th>phone</th>\n",
       "      <th>categories</th>\n",
       "      <th>point_of_interest</th>\n",
       "      <th>validation</th>\n",
       "      <th>fold</th>\n",
       "    </tr>\n",
       "  </thead>\n",
       "  <tbody>\n",
       "    <tr>\n",
       "      <th>163085</th>\n",
       "      <td>E_248ea83b81fda7</td>\n",
       "      <td>Jai Ｔhai PALACE / ジャイタイ パレス 恵比寿店</td>\n",
       "      <td>35.642650</td>\n",
       "      <td>139.712877</td>\n",
       "      <td>恵比寿4-20-4</td>\n",
       "      <td>渋谷区</td>\n",
       "      <td>東京都</td>\n",
       "      <td>153-0013</td>\n",
       "      <td>JP</td>\n",
       "      <td>NaN</td>\n",
       "      <td>0357935100</td>\n",
       "      <td>Thai Restaurants</td>\n",
       "      <td>P_d8cf3fb9c6554b</td>\n",
       "      <td>0</td>\n",
       "      <td>3</td>\n",
       "    </tr>\n",
       "    <tr>\n",
       "      <th>646950</th>\n",
       "      <td>E_9166b7e9bdee5d</td>\n",
       "      <td>ジャイタイ パレス（Jai Ｔhai PALACE） 恵比寿ガーデンプレイス</td>\n",
       "      <td>35.642597</td>\n",
       "      <td>139.712920</td>\n",
       "      <td>NaN</td>\n",
       "      <td>NaN</td>\n",
       "      <td>NaN</td>\n",
       "      <td>NaN</td>\n",
       "      <td>JP</td>\n",
       "      <td>NaN</td>\n",
       "      <td>357935100</td>\n",
       "      <td>Thai Restaurants</td>\n",
       "      <td>P_d8cf3fb9c6554b</td>\n",
       "      <td>0</td>\n",
       "      <td>3</td>\n",
       "    </tr>\n",
       "  </tbody>\n",
       "</table>\n",
       "</div>"
      ],
      "text/plain": [
       "                      id                                    name   latitude  \\\n",
       "163085  E_248ea83b81fda7        Jai Ｔhai PALACE / ジャイタイ パレス 恵比寿店  35.642650   \n",
       "646950  E_9166b7e9bdee5d  ジャイタイ パレス（Jai Ｔhai PALACE） 恵比寿ガーデンプレイス  35.642597   \n",
       "\n",
       "         longitude    address city state       zip country  url       phone  \\\n",
       "163085  139.712877  恵比寿4-20-4  渋谷区   東京都  153-0013      JP  NaN  0357935100   \n",
       "646950  139.712920        NaN  NaN   NaN       NaN      JP  NaN   357935100   \n",
       "\n",
       "              categories point_of_interest  validation  fold  \n",
       "163085  Thai Restaurants  P_d8cf3fb9c6554b           0     3  \n",
       "646950  Thai Restaurants  P_d8cf3fb9c6554b           0     3  "
      ]
     },
     "execution_count": 34,
     "metadata": {},
     "output_type": "execute_result"
    }
   ],
   "source": [
    "df_train[df_train[\"point_of_interest\"] == pois[5]]"
   ]
  },
  {
   "cell_type": "code",
   "execution_count": 35,
   "id": "virgin-foundation",
   "metadata": {},
   "outputs": [
    {
     "data": {
      "text/html": [
       "<div>\n",
       "<style scoped>\n",
       "    .dataframe tbody tr th:only-of-type {\n",
       "        vertical-align: middle;\n",
       "    }\n",
       "\n",
       "    .dataframe tbody tr th {\n",
       "        vertical-align: top;\n",
       "    }\n",
       "\n",
       "    .dataframe thead th {\n",
       "        text-align: right;\n",
       "    }\n",
       "</style>\n",
       "<table border=\"1\" class=\"dataframe\">\n",
       "  <thead>\n",
       "    <tr style=\"text-align: right;\">\n",
       "      <th></th>\n",
       "      <th>id</th>\n",
       "      <th>name</th>\n",
       "      <th>latitude</th>\n",
       "      <th>longitude</th>\n",
       "      <th>address</th>\n",
       "      <th>city</th>\n",
       "      <th>state</th>\n",
       "      <th>zip</th>\n",
       "      <th>country</th>\n",
       "      <th>url</th>\n",
       "      <th>phone</th>\n",
       "      <th>categories</th>\n",
       "      <th>point_of_interest</th>\n",
       "      <th>validation</th>\n",
       "      <th>fold</th>\n",
       "    </tr>\n",
       "  </thead>\n",
       "  <tbody>\n",
       "    <tr>\n",
       "      <th>86230</th>\n",
       "      <td>E_135055a8cd6879</td>\n",
       "      <td>The Clarendon Guesthouse Bantry Bay (South Africa)</td>\n",
       "      <td>-33.927752</td>\n",
       "      <td>18.379306</td>\n",
       "      <td>158 Kloof Road</td>\n",
       "      <td>Bantry Bay (South Africa)</td>\n",
       "      <td>NaN</td>\n",
       "      <td>NaN</td>\n",
       "      <td>ZA</td>\n",
       "      <td>NaN</td>\n",
       "      <td>NaN</td>\n",
       "      <td>Hotels</td>\n",
       "      <td>P_66bab9a2818af5</td>\n",
       "      <td>0</td>\n",
       "      <td>2</td>\n",
       "    </tr>\n",
       "    <tr>\n",
       "      <th>401279</th>\n",
       "      <td>E_5a2942a8340d46</td>\n",
       "      <td>The Clarendon Bantry Bay</td>\n",
       "      <td>-33.924392</td>\n",
       "      <td>18.383675</td>\n",
       "      <td>NaN</td>\n",
       "      <td>NaN</td>\n",
       "      <td>NaN</td>\n",
       "      <td>NaN</td>\n",
       "      <td>ZA</td>\n",
       "      <td>NaN</td>\n",
       "      <td>NaN</td>\n",
       "      <td>Hotels</td>\n",
       "      <td>P_66bab9a2818af5</td>\n",
       "      <td>0</td>\n",
       "      <td>2</td>\n",
       "    </tr>\n",
       "  </tbody>\n",
       "</table>\n",
       "</div>"
      ],
      "text/plain": [
       "                      id                                                name  \\\n",
       "86230   E_135055a8cd6879  The Clarendon Guesthouse Bantry Bay (South Africa)   \n",
       "401279  E_5a2942a8340d46                            The Clarendon Bantry Bay   \n",
       "\n",
       "         latitude  longitude         address                       city state  \\\n",
       "86230  -33.927752  18.379306  158 Kloof Road  Bantry Bay (South Africa)   NaN   \n",
       "401279 -33.924392  18.383675             NaN                        NaN   NaN   \n",
       "\n",
       "        zip country  url phone categories point_of_interest  validation  fold  \n",
       "86230   NaN      ZA  NaN   NaN     Hotels  P_66bab9a2818af5           0     2  \n",
       "401279  NaN      ZA  NaN   NaN     Hotels  P_66bab9a2818af5           0     2  "
      ]
     },
     "execution_count": 35,
     "metadata": {},
     "output_type": "execute_result"
    }
   ],
   "source": [
    "df_train[df_train[\"point_of_interest\"] == pois[6]]"
   ]
  },
  {
   "cell_type": "code",
   "execution_count": 36,
   "id": "blocked-arabic",
   "metadata": {},
   "outputs": [
    {
     "data": {
      "text/html": [
       "<div>\n",
       "<style scoped>\n",
       "    .dataframe tbody tr th:only-of-type {\n",
       "        vertical-align: middle;\n",
       "    }\n",
       "\n",
       "    .dataframe tbody tr th {\n",
       "        vertical-align: top;\n",
       "    }\n",
       "\n",
       "    .dataframe thead th {\n",
       "        text-align: right;\n",
       "    }\n",
       "</style>\n",
       "<table border=\"1\" class=\"dataframe\">\n",
       "  <thead>\n",
       "    <tr style=\"text-align: right;\">\n",
       "      <th></th>\n",
       "      <th>id</th>\n",
       "      <th>name</th>\n",
       "      <th>latitude</th>\n",
       "      <th>longitude</th>\n",
       "      <th>address</th>\n",
       "      <th>city</th>\n",
       "      <th>state</th>\n",
       "      <th>zip</th>\n",
       "      <th>country</th>\n",
       "      <th>url</th>\n",
       "      <th>phone</th>\n",
       "      <th>categories</th>\n",
       "      <th>point_of_interest</th>\n",
       "      <th>validation</th>\n",
       "      <th>fold</th>\n",
       "    </tr>\n",
       "  </thead>\n",
       "  <tbody>\n",
       "    <tr>\n",
       "      <th>495476</th>\n",
       "      <td>E_6f5f154abd7efc</td>\n",
       "      <td>八大处</td>\n",
       "      <td>39.955826</td>\n",
       "      <td>116.177181</td>\n",
       "      <td>NaN</td>\n",
       "      <td>NaN</td>\n",
       "      <td>NaN</td>\n",
       "      <td>NaN</td>\n",
       "      <td>CN</td>\n",
       "      <td>NaN</td>\n",
       "      <td>NaN</td>\n",
       "      <td>NaN</td>\n",
       "      <td>P_b4afd7c0a8fa60</td>\n",
       "      <td>0</td>\n",
       "      <td>2</td>\n",
       "    </tr>\n",
       "    <tr>\n",
       "      <th>564098</th>\n",
       "      <td>E_7ec6d95f320766</td>\n",
       "      <td>八大处公园 Badachu Park</td>\n",
       "      <td>39.954315</td>\n",
       "      <td>116.178018</td>\n",
       "      <td>3 Badachu Rd</td>\n",
       "      <td>Beijing</td>\n",
       "      <td>Beijing</td>\n",
       "      <td>NaN</td>\n",
       "      <td>CN</td>\n",
       "      <td>NaN</td>\n",
       "      <td>1088964661</td>\n",
       "      <td>Parks</td>\n",
       "      <td>P_b4afd7c0a8fa60</td>\n",
       "      <td>0</td>\n",
       "      <td>2</td>\n",
       "    </tr>\n",
       "  </tbody>\n",
       "</table>\n",
       "</div>"
      ],
      "text/plain": [
       "                      id                name   latitude   longitude  \\\n",
       "495476  E_6f5f154abd7efc                 八大处  39.955826  116.177181   \n",
       "564098  E_7ec6d95f320766  八大处公园 Badachu Park  39.954315  116.178018   \n",
       "\n",
       "             address     city    state  zip country  url       phone  \\\n",
       "495476           NaN      NaN      NaN  NaN      CN  NaN         NaN   \n",
       "564098  3 Badachu Rd  Beijing  Beijing  NaN      CN  NaN  1088964661   \n",
       "\n",
       "       categories point_of_interest  validation  fold  \n",
       "495476        NaN  P_b4afd7c0a8fa60           0     2  \n",
       "564098      Parks  P_b4afd7c0a8fa60           0     2  "
      ]
     },
     "execution_count": 36,
     "metadata": {},
     "output_type": "execute_result"
    }
   ],
   "source": [
    "df_train[df_train[\"point_of_interest\"] == pois[7]]"
   ]
  },
  {
   "cell_type": "code",
   "execution_count": 37,
   "id": "casual-stylus",
   "metadata": {},
   "outputs": [
    {
     "data": {
      "text/html": [
       "<div>\n",
       "<style scoped>\n",
       "    .dataframe tbody tr th:only-of-type {\n",
       "        vertical-align: middle;\n",
       "    }\n",
       "\n",
       "    .dataframe tbody tr th {\n",
       "        vertical-align: top;\n",
       "    }\n",
       "\n",
       "    .dataframe thead th {\n",
       "        text-align: right;\n",
       "    }\n",
       "</style>\n",
       "<table border=\"1\" class=\"dataframe\">\n",
       "  <thead>\n",
       "    <tr style=\"text-align: right;\">\n",
       "      <th></th>\n",
       "      <th>id</th>\n",
       "      <th>name</th>\n",
       "      <th>latitude</th>\n",
       "      <th>longitude</th>\n",
       "      <th>address</th>\n",
       "      <th>city</th>\n",
       "      <th>state</th>\n",
       "      <th>zip</th>\n",
       "      <th>country</th>\n",
       "      <th>url</th>\n",
       "      <th>phone</th>\n",
       "      <th>categories</th>\n",
       "      <th>point_of_interest</th>\n",
       "      <th>validation</th>\n",
       "      <th>fold</th>\n",
       "    </tr>\n",
       "  </thead>\n",
       "  <tbody>\n",
       "    <tr>\n",
       "      <th>424891</th>\n",
       "      <td>E_5f7847ffc70bd1</td>\n",
       "      <td>U.S. Bank Branch</td>\n",
       "      <td>36.040152</td>\n",
       "      <td>-115.089774</td>\n",
       "      <td>8050 S Rainbow Blvd</td>\n",
       "      <td>Las Vegas</td>\n",
       "      <td>NV</td>\n",
       "      <td>89139</td>\n",
       "      <td>US</td>\n",
       "      <td>https://locations.usbank.com/index/nevada/las-vegas/south-rainbow-smiths-branch.html</td>\n",
       "      <td>7022631964</td>\n",
       "      <td>Banks</td>\n",
       "      <td>P_2c34910dd24f1d</td>\n",
       "      <td>0</td>\n",
       "      <td>1</td>\n",
       "    </tr>\n",
       "    <tr>\n",
       "      <th>797882</th>\n",
       "      <td>E_b3344e2082e275</td>\n",
       "      <td>U.S. Bank</td>\n",
       "      <td>36.042274</td>\n",
       "      <td>-115.241859</td>\n",
       "      <td>8050 S Rainbow Blvd</td>\n",
       "      <td>Las Vegas</td>\n",
       "      <td>NV</td>\n",
       "      <td>89139</td>\n",
       "      <td>US</td>\n",
       "      <td>http://https://www.usbank.com/locations</td>\n",
       "      <td>+17022631964</td>\n",
       "      <td>Banks</td>\n",
       "      <td>P_2c34910dd24f1d</td>\n",
       "      <td>0</td>\n",
       "      <td>1</td>\n",
       "    </tr>\n",
       "  </tbody>\n",
       "</table>\n",
       "</div>"
      ],
      "text/plain": [
       "                      id              name   latitude   longitude  \\\n",
       "424891  E_5f7847ffc70bd1  U.S. Bank Branch  36.040152 -115.089774   \n",
       "797882  E_b3344e2082e275         U.S. Bank  36.042274 -115.241859   \n",
       "\n",
       "                    address       city state    zip country  \\\n",
       "424891  8050 S Rainbow Blvd  Las Vegas    NV  89139      US   \n",
       "797882  8050 S Rainbow Blvd  Las Vegas    NV  89139      US   \n",
       "\n",
       "                                                                                         url  \\\n",
       "424891  https://locations.usbank.com/index/nevada/las-vegas/south-rainbow-smiths-branch.html   \n",
       "797882                                               http://https://www.usbank.com/locations   \n",
       "\n",
       "               phone categories point_of_interest  validation  fold  \n",
       "424891    7022631964      Banks  P_2c34910dd24f1d           0     1  \n",
       "797882  +17022631964      Banks  P_2c34910dd24f1d           0     1  "
      ]
     },
     "execution_count": 37,
     "metadata": {},
     "output_type": "execute_result"
    }
   ],
   "source": [
    "df_train[df_train[\"point_of_interest\"] == pois[8]]"
   ]
  },
  {
   "cell_type": "code",
   "execution_count": 38,
   "id": "frank-corporation",
   "metadata": {},
   "outputs": [
    {
     "data": {
      "text/html": [
       "<div>\n",
       "<style scoped>\n",
       "    .dataframe tbody tr th:only-of-type {\n",
       "        vertical-align: middle;\n",
       "    }\n",
       "\n",
       "    .dataframe tbody tr th {\n",
       "        vertical-align: top;\n",
       "    }\n",
       "\n",
       "    .dataframe thead th {\n",
       "        text-align: right;\n",
       "    }\n",
       "</style>\n",
       "<table border=\"1\" class=\"dataframe\">\n",
       "  <thead>\n",
       "    <tr style=\"text-align: right;\">\n",
       "      <th></th>\n",
       "      <th>id</th>\n",
       "      <th>name</th>\n",
       "      <th>latitude</th>\n",
       "      <th>longitude</th>\n",
       "      <th>address</th>\n",
       "      <th>city</th>\n",
       "      <th>state</th>\n",
       "      <th>zip</th>\n",
       "      <th>country</th>\n",
       "      <th>url</th>\n",
       "      <th>phone</th>\n",
       "      <th>categories</th>\n",
       "      <th>point_of_interest</th>\n",
       "      <th>validation</th>\n",
       "      <th>fold</th>\n",
       "    </tr>\n",
       "  </thead>\n",
       "  <tbody>\n",
       "    <tr>\n",
       "      <th>241304</th>\n",
       "      <td>E_362b3502213ac2</td>\n",
       "      <td>im at ubud village cluster denpasar</td>\n",
       "      <td>31.947762</td>\n",
       "      <td>35.872548</td>\n",
       "      <td>NaN</td>\n",
       "      <td>NaN</td>\n",
       "      <td>NaN</td>\n",
       "      <td>NaN</td>\n",
       "      <td>JO</td>\n",
       "      <td>NaN</td>\n",
       "      <td>NaN</td>\n",
       "      <td>NaN</td>\n",
       "      <td>P_7d4714713bc768</td>\n",
       "      <td>0</td>\n",
       "      <td>1</td>\n",
       "    </tr>\n",
       "    <tr>\n",
       "      <th>332481</th>\n",
       "      <td>E_4abc24aecd0319</td>\n",
       "      <td>at ubud village cluster denpasar</td>\n",
       "      <td>31.947761</td>\n",
       "      <td>35.872512</td>\n",
       "      <td>NaN</td>\n",
       "      <td>NaN</td>\n",
       "      <td>NaN</td>\n",
       "      <td>NaN</td>\n",
       "      <td>JO</td>\n",
       "      <td>NaN</td>\n",
       "      <td>NaN</td>\n",
       "      <td>NaN</td>\n",
       "      <td>P_7d4714713bc768</td>\n",
       "      <td>0</td>\n",
       "      <td>1</td>\n",
       "    </tr>\n",
       "  </tbody>\n",
       "</table>\n",
       "</div>"
      ],
      "text/plain": [
       "                      id                                 name   latitude  \\\n",
       "241304  E_362b3502213ac2  im at ubud village cluster denpasar  31.947762   \n",
       "332481  E_4abc24aecd0319     at ubud village cluster denpasar  31.947761   \n",
       "\n",
       "        longitude address city state  zip country  url phone categories  \\\n",
       "241304  35.872548     NaN  NaN   NaN  NaN      JO  NaN   NaN        NaN   \n",
       "332481  35.872512     NaN  NaN   NaN  NaN      JO  NaN   NaN        NaN   \n",
       "\n",
       "       point_of_interest  validation  fold  \n",
       "241304  P_7d4714713bc768           0     1  \n",
       "332481  P_7d4714713bc768           0     1  "
      ]
     },
     "execution_count": 38,
     "metadata": {},
     "output_type": "execute_result"
    }
   ],
   "source": [
    "df_train[df_train[\"point_of_interest\"] == pois[9]]"
   ]
  },
  {
   "cell_type": "code",
   "execution_count": 39,
   "id": "handmade-huntington",
   "metadata": {},
   "outputs": [
    {
     "data": {
      "text/html": [
       "<div>\n",
       "<style scoped>\n",
       "    .dataframe tbody tr th:only-of-type {\n",
       "        vertical-align: middle;\n",
       "    }\n",
       "\n",
       "    .dataframe tbody tr th {\n",
       "        vertical-align: top;\n",
       "    }\n",
       "\n",
       "    .dataframe thead th {\n",
       "        text-align: right;\n",
       "    }\n",
       "</style>\n",
       "<table border=\"1\" class=\"dataframe\">\n",
       "  <thead>\n",
       "    <tr style=\"text-align: right;\">\n",
       "      <th></th>\n",
       "      <th>id</th>\n",
       "      <th>name</th>\n",
       "      <th>latitude</th>\n",
       "      <th>longitude</th>\n",
       "      <th>address</th>\n",
       "      <th>city</th>\n",
       "      <th>state</th>\n",
       "      <th>zip</th>\n",
       "      <th>country</th>\n",
       "      <th>url</th>\n",
       "      <th>phone</th>\n",
       "      <th>categories</th>\n",
       "      <th>point_of_interest</th>\n",
       "      <th>validation</th>\n",
       "      <th>fold</th>\n",
       "    </tr>\n",
       "  </thead>\n",
       "  <tbody>\n",
       "    <tr>\n",
       "      <th>592771</th>\n",
       "      <td>E_853aedbadf4b3b</td>\n",
       "      <td>Ak Parti Mudanya İlçe Başkanlığı</td>\n",
       "      <td>40.372164</td>\n",
       "      <td>28.889042</td>\n",
       "      <td>NaN</td>\n",
       "      <td>NaN</td>\n",
       "      <td>NaN</td>\n",
       "      <td>NaN</td>\n",
       "      <td>TR</td>\n",
       "      <td>NaN</td>\n",
       "      <td>NaN</td>\n",
       "      <td>Non-Profits</td>\n",
       "      <td>P_22a44ec669df87</td>\n",
       "      <td>0</td>\n",
       "      <td>2</td>\n",
       "    </tr>\n",
       "    <tr>\n",
       "      <th>761297</th>\n",
       "      <td>E_ab05d236bd66a1</td>\n",
       "      <td>Akparti Mudanya İlçe Binası</td>\n",
       "      <td>40.372191</td>\n",
       "      <td>28.889168</td>\n",
       "      <td>NaN</td>\n",
       "      <td>NaN</td>\n",
       "      <td>NaN</td>\n",
       "      <td>NaN</td>\n",
       "      <td>TR</td>\n",
       "      <td>NaN</td>\n",
       "      <td>NaN</td>\n",
       "      <td>Campaign Offices</td>\n",
       "      <td>P_22a44ec669df87</td>\n",
       "      <td>0</td>\n",
       "      <td>2</td>\n",
       "    </tr>\n",
       "  </tbody>\n",
       "</table>\n",
       "</div>"
      ],
      "text/plain": [
       "                      id                              name   latitude  \\\n",
       "592771  E_853aedbadf4b3b  Ak Parti Mudanya İlçe Başkanlığı  40.372164   \n",
       "761297  E_ab05d236bd66a1       Akparti Mudanya İlçe Binası  40.372191   \n",
       "\n",
       "        longitude address city state  zip country  url phone  \\\n",
       "592771  28.889042     NaN  NaN   NaN  NaN      TR  NaN   NaN   \n",
       "761297  28.889168     NaN  NaN   NaN  NaN      TR  NaN   NaN   \n",
       "\n",
       "              categories point_of_interest  validation  fold  \n",
       "592771       Non-Profits  P_22a44ec669df87           0     2  \n",
       "761297  Campaign Offices  P_22a44ec669df87           0     2  "
      ]
     },
     "execution_count": 39,
     "metadata": {},
     "output_type": "execute_result"
    }
   ],
   "source": [
    "df_train[df_train[\"point_of_interest\"] == pois[10]]"
   ]
  }
 ],
 "metadata": {
  "kernelspec": {
   "display_name": "Python [conda env:foursquare]",
   "language": "python",
   "name": "conda-env-foursquare-py"
  },
  "language_info": {
   "codemirror_mode": {
    "name": "ipython",
    "version": 3
   },
   "file_extension": ".py",
   "mimetype": "text/x-python",
   "name": "python",
   "nbconvert_exporter": "python",
   "pygments_lexer": "ipython3",
   "version": "3.8.0"
  }
 },
 "nbformat": 4,
 "nbformat_minor": 5
}
