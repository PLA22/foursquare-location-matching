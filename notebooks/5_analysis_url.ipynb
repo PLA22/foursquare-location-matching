{
 "cells": [
  {
   "cell_type": "code",
   "execution_count": 1,
   "id": "rental-plumbing",
   "metadata": {},
   "outputs": [
    {
     "name": "stderr",
     "output_type": "stream",
     "text": [
      "2022-08-06 20:43:09.137708: W tensorflow/stream_executor/platform/default/dso_loader.cc:64] Could not load dynamic library 'libcudart.so.11.0'; dlerror: libcudart.so.11.0: cannot open shared object file: No such file or directory\n",
      "2022-08-06 20:43:09.137726: I tensorflow/stream_executor/cuda/cudart_stub.cc:29] Ignore above cudart dlerror if you do not have a GPU set up on your machine.\n",
      "/home/pablo/miniconda3/envs/foursquare/lib/python3.8/site-packages/tqdm/auto.py:22: TqdmWarning: IProgress not found. Please update jupyter and ipywidgets. See https://ipywidgets.readthedocs.io/en/stable/user_install.html\n",
      "  from .autonotebook import tqdm as notebook_tqdm\n"
     ]
    },
    {
     "name": "stdout",
     "output_type": "stream",
     "text": [
      "imported sklearn.neighbors.NearestNeighborsDefault\n"
     ]
    }
   ],
   "source": [
    "import math\n",
    "import unidecode\n",
    "\n",
    "import numpy as np\n",
    "import pandas as pd\n",
    "import matplotlib.pyplot as plt\n",
    "import tldextract\n",
    "import urllib.parse\n",
    "\n",
    "from foursquare.dataset import extract_features_url\n",
    "\n",
    "pd.set_option('display.max_colwidth', None)"
   ]
  },
  {
   "cell_type": "code",
   "execution_count": 2,
   "id": "falling-hopkins",
   "metadata": {},
   "outputs": [],
   "source": [
    "def descriptive(series):\n",
    "    counts = series.value_counts()\n",
    "    print(counts.head(10))\n",
    "    rows_common = counts[counts >= 5].sum()\n",
    "    classes_common = counts[counts >= 5].count()\n",
    "    print(\"not null\", series.notnull().sum())\n",
    "    print(\"rows (common classes)\", rows_common, \"classes\", classes_common)\n",
    "    print(counts.describe(percentiles=[0.9, 0.95, 0.99, 0.999]))"
   ]
  },
  {
   "cell_type": "code",
   "execution_count": 3,
   "id": "noticed-melbourne",
   "metadata": {
    "scrolled": true
   },
   "outputs": [
    {
     "name": "stdout",
     "output_type": "stream",
     "text": [
      "(1138812, 13)\n",
      "id                        0\n",
      "name                      1\n",
      "latitude                  0\n",
      "longitude                 0\n",
      "address              396621\n",
      "city                 299189\n",
      "state                420586\n",
      "zip                  595426\n",
      "country                  11\n",
      "url                  871088\n",
      "phone                795957\n",
      "categories            98307\n",
      "point_of_interest         0\n",
      "dtype: int64\n"
     ]
    },
    {
     "data": {
      "text/html": [
       "<div>\n",
       "<style scoped>\n",
       "    .dataframe tbody tr th:only-of-type {\n",
       "        vertical-align: middle;\n",
       "    }\n",
       "\n",
       "    .dataframe tbody tr th {\n",
       "        vertical-align: top;\n",
       "    }\n",
       "\n",
       "    .dataframe thead th {\n",
       "        text-align: right;\n",
       "    }\n",
       "</style>\n",
       "<table border=\"1\" class=\"dataframe\">\n",
       "  <thead>\n",
       "    <tr style=\"text-align: right;\">\n",
       "      <th></th>\n",
       "      <th>id</th>\n",
       "      <th>name</th>\n",
       "      <th>latitude</th>\n",
       "      <th>longitude</th>\n",
       "      <th>address</th>\n",
       "      <th>city</th>\n",
       "      <th>state</th>\n",
       "      <th>zip</th>\n",
       "      <th>country</th>\n",
       "      <th>url</th>\n",
       "      <th>phone</th>\n",
       "      <th>categories</th>\n",
       "      <th>point_of_interest</th>\n",
       "    </tr>\n",
       "  </thead>\n",
       "  <tbody>\n",
       "    <tr>\n",
       "      <th>0</th>\n",
       "      <td>E_000001272c6c5d</td>\n",
       "      <td>Café Stad Oudenaarde</td>\n",
       "      <td>50.859975</td>\n",
       "      <td>3.634196</td>\n",
       "      <td>Abdijstraat</td>\n",
       "      <td>Nederename</td>\n",
       "      <td>Oost-Vlaanderen</td>\n",
       "      <td>9700</td>\n",
       "      <td>BE</td>\n",
       "      <td>NaN</td>\n",
       "      <td>NaN</td>\n",
       "      <td>Bars</td>\n",
       "      <td>P_677e840bb6fc7e</td>\n",
       "    </tr>\n",
       "    <tr>\n",
       "      <th>1</th>\n",
       "      <td>E_000002eae2a589</td>\n",
       "      <td>Carioca Manero</td>\n",
       "      <td>-22.907225</td>\n",
       "      <td>-43.178244</td>\n",
       "      <td>NaN</td>\n",
       "      <td>NaN</td>\n",
       "      <td>NaN</td>\n",
       "      <td>NaN</td>\n",
       "      <td>BR</td>\n",
       "      <td>NaN</td>\n",
       "      <td>NaN</td>\n",
       "      <td>Brazilian Restaurants</td>\n",
       "      <td>P_d82910d8382a83</td>\n",
       "    </tr>\n",
       "    <tr>\n",
       "      <th>2</th>\n",
       "      <td>E_000007f24ebc95</td>\n",
       "      <td>ร้านตัดผมการาเกด</td>\n",
       "      <td>13.780813</td>\n",
       "      <td>100.484900</td>\n",
       "      <td>NaN</td>\n",
       "      <td>NaN</td>\n",
       "      <td>NaN</td>\n",
       "      <td>NaN</td>\n",
       "      <td>TH</td>\n",
       "      <td>NaN</td>\n",
       "      <td>NaN</td>\n",
       "      <td>Salons / Barbershops</td>\n",
       "      <td>P_b1066599e78477</td>\n",
       "    </tr>\n",
       "    <tr>\n",
       "      <th>3</th>\n",
       "      <td>E_000008a8ba4f48</td>\n",
       "      <td>Turkcell</td>\n",
       "      <td>37.844510</td>\n",
       "      <td>27.844202</td>\n",
       "      <td>Adnan Menderes Bulvarı</td>\n",
       "      <td>NaN</td>\n",
       "      <td>NaN</td>\n",
       "      <td>NaN</td>\n",
       "      <td>TR</td>\n",
       "      <td>NaN</td>\n",
       "      <td>NaN</td>\n",
       "      <td>Mobile Phone Shops</td>\n",
       "      <td>P_b2ed86905a4cd3</td>\n",
       "    </tr>\n",
       "    <tr>\n",
       "      <th>4</th>\n",
       "      <td>E_00001d92066153</td>\n",
       "      <td>Restaurante Casa Cofiño</td>\n",
       "      <td>43.338196</td>\n",
       "      <td>-4.326821</td>\n",
       "      <td>NaN</td>\n",
       "      <td>Caviedes</td>\n",
       "      <td>Cantabria</td>\n",
       "      <td>NaN</td>\n",
       "      <td>ES</td>\n",
       "      <td>NaN</td>\n",
       "      <td>NaN</td>\n",
       "      <td>Spanish Restaurants</td>\n",
       "      <td>P_809a884d4407fb</td>\n",
       "    </tr>\n",
       "  </tbody>\n",
       "</table>\n",
       "</div>"
      ],
      "text/plain": [
       "                 id                     name   latitude   longitude  \\\n",
       "0  E_000001272c6c5d     Café Stad Oudenaarde  50.859975    3.634196   \n",
       "1  E_000002eae2a589           Carioca Manero -22.907225  -43.178244   \n",
       "2  E_000007f24ebc95         ร้านตัดผมการาเกด  13.780813  100.484900   \n",
       "3  E_000008a8ba4f48                 Turkcell  37.844510   27.844202   \n",
       "4  E_00001d92066153  Restaurante Casa Cofiño  43.338196   -4.326821   \n",
       "\n",
       "                  address        city            state   zip country  url  \\\n",
       "0             Abdijstraat  Nederename  Oost-Vlaanderen  9700      BE  NaN   \n",
       "1                     NaN         NaN              NaN   NaN      BR  NaN   \n",
       "2                     NaN         NaN              NaN   NaN      TH  NaN   \n",
       "3  Adnan Menderes Bulvarı         NaN              NaN   NaN      TR  NaN   \n",
       "4                     NaN    Caviedes        Cantabria   NaN      ES  NaN   \n",
       "\n",
       "  phone             categories point_of_interest  \n",
       "0   NaN                   Bars  P_677e840bb6fc7e  \n",
       "1   NaN  Brazilian Restaurants  P_d82910d8382a83  \n",
       "2   NaN   Salons / Barbershops  P_b1066599e78477  \n",
       "3   NaN     Mobile Phone Shops  P_b2ed86905a4cd3  \n",
       "4   NaN    Spanish Restaurants  P_809a884d4407fb  "
      ]
     },
     "execution_count": 3,
     "metadata": {},
     "output_type": "execute_result"
    }
   ],
   "source": [
    "df = pd.read_csv(\"/kaggle/input/foursquare-location-matching/train.csv\")\n",
    "print(df.shape)\n",
    "print(df.isnull().sum(axis=0))\n",
    "df.head()"
   ]
  },
  {
   "cell_type": "code",
   "execution_count": 4,
   "id": "fifteen-figure",
   "metadata": {
    "scrolled": true
   },
   "outputs": [
    {
     "data": {
      "text/html": [
       "<div>\n",
       "<style scoped>\n",
       "    .dataframe tbody tr th:only-of-type {\n",
       "        vertical-align: middle;\n",
       "    }\n",
       "\n",
       "    .dataframe tbody tr th {\n",
       "        vertical-align: top;\n",
       "    }\n",
       "\n",
       "    .dataframe thead th {\n",
       "        text-align: right;\n",
       "    }\n",
       "</style>\n",
       "<table border=\"1\" class=\"dataframe\">\n",
       "  <thead>\n",
       "    <tr style=\"text-align: right;\">\n",
       "      <th></th>\n",
       "      <th>url_scheme</th>\n",
       "      <th>netloc</th>\n",
       "      <th>path</th>\n",
       "      <th>params</th>\n",
       "      <th>query</th>\n",
       "      <th>fragment</th>\n",
       "      <th>subdomain</th>\n",
       "      <th>url_domain</th>\n",
       "      <th>suffix</th>\n",
       "      <th>url_netloc</th>\n",
       "      <th>url_path</th>\n",
       "      <th>url_params</th>\n",
       "      <th>url_query</th>\n",
       "      <th>url_fragment</th>\n",
       "      <th>url_subdomain</th>\n",
       "      <th>url_suffix</th>\n",
       "    </tr>\n",
       "  </thead>\n",
       "  <tbody>\n",
       "    <tr>\n",
       "      <th>8</th>\n",
       "      <td>https</td>\n",
       "      <td>NaN</td>\n",
       "      <td>NaN</td>\n",
       "      <td>NaN</td>\n",
       "      <td>NaN</td>\n",
       "      <td>NaN</td>\n",
       "      <td>NaN</td>\n",
       "      <td>togos</td>\n",
       "      <td>NaN</td>\n",
       "      <td>locations.togos.com</td>\n",
       "      <td>/ll/US/CA/Fairfield/1380-Holiday-Ln_*-Ste_-B</td>\n",
       "      <td>NaN</td>\n",
       "      <td>NaN</td>\n",
       "      <td>NaN</td>\n",
       "      <td>locations</td>\n",
       "      <td>com</td>\n",
       "    </tr>\n",
       "    <tr>\n",
       "      <th>12</th>\n",
       "      <td>https</td>\n",
       "      <td>NaN</td>\n",
       "      <td>NaN</td>\n",
       "      <td>NaN</td>\n",
       "      <td>NaN</td>\n",
       "      <td>NaN</td>\n",
       "      <td>NaN</td>\n",
       "      <td>tsukemen-tsujita</td>\n",
       "      <td>NaN</td>\n",
       "      <td>tsukemen-tsujita.com</td>\n",
       "      <td>NaN</td>\n",
       "      <td>NaN</td>\n",
       "      <td>NaN</td>\n",
       "      <td>NaN</td>\n",
       "      <td>NaN</td>\n",
       "      <td>com</td>\n",
       "    </tr>\n",
       "    <tr>\n",
       "      <th>13</th>\n",
       "      <td>http</td>\n",
       "      <td>NaN</td>\n",
       "      <td>NaN</td>\n",
       "      <td>NaN</td>\n",
       "      <td>NaN</td>\n",
       "      <td>NaN</td>\n",
       "      <td>NaN</td>\n",
       "      <td>oursignatureproperties</td>\n",
       "      <td>NaN</td>\n",
       "      <td>www.oursignatureproperties.com</td>\n",
       "      <td>NaN</td>\n",
       "      <td>NaN</td>\n",
       "      <td>NaN</td>\n",
       "      <td>NaN</td>\n",
       "      <td>www</td>\n",
       "      <td>com</td>\n",
       "    </tr>\n",
       "    <tr>\n",
       "      <th>16</th>\n",
       "      <td>http</td>\n",
       "      <td>NaN</td>\n",
       "      <td>NaN</td>\n",
       "      <td>NaN</td>\n",
       "      <td>NaN</td>\n",
       "      <td>NaN</td>\n",
       "      <td>NaN</td>\n",
       "      <td>innerworkingsmassage</td>\n",
       "      <td>NaN</td>\n",
       "      <td>innerworkingsmassage.com</td>\n",
       "      <td>NaN</td>\n",
       "      <td>NaN</td>\n",
       "      <td>NaN</td>\n",
       "      <td>NaN</td>\n",
       "      <td>NaN</td>\n",
       "      <td>com</td>\n",
       "    </tr>\n",
       "    <tr>\n",
       "      <th>17</th>\n",
       "      <td>http</td>\n",
       "      <td>NaN</td>\n",
       "      <td>NaN</td>\n",
       "      <td>NaN</td>\n",
       "      <td>NaN</td>\n",
       "      <td>NaN</td>\n",
       "      <td>NaN</td>\n",
       "      <td>lawson</td>\n",
       "      <td>NaN</td>\n",
       "      <td>www.lawson.co.jp</td>\n",
       "      <td>NaN</td>\n",
       "      <td>NaN</td>\n",
       "      <td>NaN</td>\n",
       "      <td>NaN</td>\n",
       "      <td>www</td>\n",
       "      <td>co.jp</td>\n",
       "    </tr>\n",
       "  </tbody>\n",
       "</table>\n",
       "</div>"
      ],
      "text/plain": [
       "   url_scheme  netloc  path  params  query  fragment  subdomain  \\\n",
       "8       https     NaN   NaN     NaN    NaN       NaN        NaN   \n",
       "12      https     NaN   NaN     NaN    NaN       NaN        NaN   \n",
       "13       http     NaN   NaN     NaN    NaN       NaN        NaN   \n",
       "16       http     NaN   NaN     NaN    NaN       NaN        NaN   \n",
       "17       http     NaN   NaN     NaN    NaN       NaN        NaN   \n",
       "\n",
       "                url_domain  suffix                      url_netloc  \\\n",
       "8                    togos     NaN             locations.togos.com   \n",
       "12        tsukemen-tsujita     NaN            tsukemen-tsujita.com   \n",
       "13  oursignatureproperties     NaN  www.oursignatureproperties.com   \n",
       "16    innerworkingsmassage     NaN        innerworkingsmassage.com   \n",
       "17                  lawson     NaN                www.lawson.co.jp   \n",
       "\n",
       "                                        url_path url_params url_query  \\\n",
       "8   /ll/US/CA/Fairfield/1380-Holiday-Ln_*-Ste_-B        NaN       NaN   \n",
       "12                                           NaN        NaN       NaN   \n",
       "13                                           NaN        NaN       NaN   \n",
       "16                                           NaN        NaN       NaN   \n",
       "17                                           NaN        NaN       NaN   \n",
       "\n",
       "   url_fragment url_subdomain url_suffix  \n",
       "8           NaN     locations        com  \n",
       "12          NaN           NaN        com  \n",
       "13          NaN           www        com  \n",
       "16          NaN           NaN        com  \n",
       "17          NaN           www      co.jp  "
      ]
     },
     "execution_count": 4,
     "metadata": {},
     "output_type": "execute_result"
    }
   ],
   "source": [
    "df_url = extract_features_url(df[[\"url\"]])\n",
    "df_url.dropna(how=\"all\").head()"
   ]
  },
  {
   "cell_type": "code",
   "execution_count": 5,
   "id": "czech-jesus",
   "metadata": {},
   "outputs": [
    {
     "name": "stdout",
     "output_type": "stream",
     "text": [
      "http     183351\n",
      "https     84237\n",
      "Name: url_scheme, dtype: int64\n",
      "not null 267588\n",
      "rows (common classes) 267588 classes 2\n",
      "count         2.000000\n",
      "mean     133794.000000\n",
      "std       70084.181511\n",
      "min       84237.000000\n",
      "50%      133794.000000\n",
      "90%      173439.600000\n",
      "95%      178395.300000\n",
      "99%      182359.860000\n",
      "99.9%    183251.886000\n",
      "max      183351.000000\n",
      "Name: url_scheme, dtype: float64\n"
     ]
    }
   ],
   "source": [
    "descriptive(df_url[\"url_scheme\"])"
   ]
  },
  {
   "cell_type": "code",
   "execution_count": 6,
   "id": "european-identification",
   "metadata": {},
   "outputs": [
    {
     "name": "stdout",
     "output_type": "stream",
     "text": [
      "www.redbox.com            3146\n",
      "www.walmart.com           2666\n",
      "www.starbucks.com         1550\n",
      "www.sej.co.jp             1218\n",
      "restaurants.subway.com    1099\n",
      "payless.com               1026\n",
      "www.family.co.jp           985\n",
      "www.marriott.com           935\n",
      "www.payless.com            911\n",
      "www.7eleven.co.th          882\n",
      "Name: url_netloc, dtype: int64\n",
      "not null 267567\n",
      "rows (common classes) 139321 classes 5805\n",
      "count    109086.000000\n",
      "mean          2.452808\n",
      "std          19.214608\n",
      "min           1.000000\n",
      "50%           1.000000\n",
      "90%           2.000000\n",
      "95%           5.000000\n",
      "99%          24.000000\n",
      "99.9%       154.000000\n",
      "max        3146.000000\n",
      "Name: url_netloc, dtype: float64\n"
     ]
    }
   ],
   "source": [
    "descriptive(df_url[\"url_netloc\"])"
   ]
  },
  {
   "cell_type": "code",
   "execution_count": 7,
   "id": "otherwise-investing",
   "metadata": {},
   "outputs": [
    {
     "name": "stdout",
     "output_type": "stream",
     "text": [
      "/                           8616\n",
      "/find-location.htm           602\n",
      "/en                          361\n",
      "/offices                     358\n",
      "/ontheroad                   280\n",
      "/maps/store-locator.html     250\n",
      "/mystore/index.jsp           245\n",
      "/en/                         200\n",
      "/parks                       188\n",
      "/index.html                  185\n",
      "Name: url_path, dtype: int64\n",
      "not null 91820\n",
      "rows (common classes) 20954 classes 574\n",
      "count    64338.000000\n",
      "mean         1.427150\n",
      "std         34.282056\n",
      "min          1.000000\n",
      "50%          1.000000\n",
      "90%          2.000000\n",
      "95%          2.000000\n",
      "99%          4.000000\n",
      "99.9%       36.663000\n",
      "max       8616.000000\n",
      "Name: url_path, dtype: float64\n"
     ]
    }
   ],
   "source": [
    "descriptive(df_url[\"url_path\"])"
   ]
  },
  {
   "cell_type": "code",
   "execution_count": 8,
   "id": "freelance-brake",
   "metadata": {},
   "outputs": [
    {
     "name": "stdout",
     "output_type": "stream",
     "text": [
      "146857522;s                                            10\n",
      "jsessionid=00D28E211439525E2403DCAFC2A1EEC2.tomcat1     1\n",
      "jsessionid=D2F64E9353542B65CFEE86915944DDDA             1\n",
      "145636969;l;u=Y_RAPHTHT_W_D                             1\n",
      "124607339;i                                             1\n",
      "251241745;i                                             1\n",
      "145636969;l;u=Y_EWRFJDT_W_D                             1\n",
      "jsessionid=h0utysxzy4sk2csgbjnmvcq                      1\n",
      "Name: url_params, dtype: int64\n",
      "not null 17\n",
      "rows (common classes) 10 classes 1\n",
      "count     8.000000\n",
      "mean      2.125000\n",
      "std       3.181981\n",
      "min       1.000000\n",
      "50%       1.000000\n",
      "90%       3.700000\n",
      "95%       6.850000\n",
      "99%       9.370000\n",
      "99.9%     9.937000\n",
      "max      10.000000\n",
      "Name: url_params, dtype: float64\n"
     ]
    }
   ],
   "source": [
    "descriptive(df_url[\"url_params\"])"
   ]
  },
  {
   "cell_type": "code",
   "execution_count": 9,
   "id": "explicit-circuit",
   "metadata": {},
   "outputs": [
    {
     "name": "stdout",
     "output_type": "stream",
     "text": [
      "jp_cmp=rb/LocalListings/aff/branch/na                               247\n",
      "mc=llyxyxpx                                                         192\n",
      "iata=00171890&ssob=BLBWI0003G                                       105\n",
      "redirect=homepage                                                    90\n",
      "loc=ns100                                                            78\n",
      "extid=local                                                          76\n",
      "PID=PSLocalSearch&CHID=LL                                            76\n",
      "pk_campaign=Corporate&pk_source=WebClick&pk_medium=local_listing     67\n",
      "facilitatorId=GLOBALSEO                                              46\n",
      "corporatePlusNumber=CP792N5W&travelAgentNumber=TA001305              46\n",
      "Name: url_query, dtype: int64\n",
      "not null 13224\n",
      "rows (common classes) 1704 classes 62\n",
      "count    11107.000000\n",
      "mean         1.190601\n",
      "std          3.737486\n",
      "min          1.000000\n",
      "50%          1.000000\n",
      "90%          1.000000\n",
      "95%          1.000000\n",
      "99%          2.000000\n",
      "99.9%       45.000000\n",
      "max        247.000000\n",
      "Name: url_query, dtype: float64\n"
     ]
    }
   ],
   "source": [
    "descriptive(df_url[\"url_query\"])"
   ]
  },
  {
   "cell_type": "code",
   "execution_count": 10,
   "id": "aquatic-miller",
   "metadata": {},
   "outputs": [
    {
     "name": "stdout",
     "output_type": "stream",
     "text": [
      "utm_source=rest_of_network&utm_medium=Yext&utm_campaign=Listings    30\n",
      "development=1                                                       30\n",
      "utm_source=yext&utm_medium=localsearch&utm_campaign=yext            19\n",
      "xtor=CS2-21-[uex]-[]-[]-[]                                          13\n",
      "/                                                                   10\n",
      "Vitoria                                                              5\n",
      "storedetails                                                         5\n",
      "details                                                              4\n",
      "!                                                                    3\n",
      "/es/es                                                               3\n",
      "Name: url_fragment, dtype: int64\n",
      "not null 759\n",
      "rows (common classes) 112 classes 7\n",
      "count    627.000000\n",
      "mean       1.210526\n",
      "std        1.906861\n",
      "min        1.000000\n",
      "50%        1.000000\n",
      "90%        1.000000\n",
      "95%        1.000000\n",
      "99%        4.740000\n",
      "99.9%     30.000000\n",
      "max       30.000000\n",
      "Name: url_fragment, dtype: float64\n"
     ]
    }
   ],
   "source": [
    "descriptive(df_url[\"url_fragment\"])"
   ]
  },
  {
   "cell_type": "code",
   "execution_count": 11,
   "id": "happy-first",
   "metadata": {},
   "outputs": [
    {
     "name": "stdout",
     "output_type": "stream",
     "text": [
      "www            192504\n",
      "locations        3798\n",
      "stores           3075\n",
      "restaurants      1385\n",
      "tools             602\n",
      "local             559\n",
      "find              398\n",
      "shop              364\n",
      "locator           284\n",
      "all               281\n",
      "Name: url_subdomain, dtype: int64\n",
      "not null 220126\n",
      "rows (common classes) 212747 classes 385\n",
      "count      6406.000000\n",
      "mean         34.362473\n",
      "std        2406.013508\n",
      "min           1.000000\n",
      "50%           1.000000\n",
      "90%           3.000000\n",
      "95%           6.000000\n",
      "99%          45.900000\n",
      "99.9%       384.230000\n",
      "max      192504.000000\n",
      "Name: url_subdomain, dtype: float64\n"
     ]
    }
   ],
   "source": [
    "descriptive(df_url[\"url_subdomain\"])"
   ]
  },
  {
   "cell_type": "code",
   "execution_count": 12,
   "id": "responsible-extent",
   "metadata": {},
   "outputs": [
    {
     "name": "stdout",
     "output_type": "stream",
     "text": [
      "starbucks    4304\n",
      "redbox       3151\n",
      "walmart      2848\n",
      "mcdonalds    2654\n",
      "subway       2078\n",
      "payless      1939\n",
      "sej          1218\n",
      "shell        1119\n",
      "kfc          1110\n",
      "family       1014\n",
      "Name: url_domain, dtype: int64\n",
      "not null 267561\n",
      "rows (common classes) 153599 classes 5513\n",
      "count    94719.000000\n",
      "mean         2.824787\n",
      "std         28.404551\n",
      "min          1.000000\n",
      "50%          1.000000\n",
      "90%          3.000000\n",
      "95%          5.000000\n",
      "99%         28.000000\n",
      "99.9%      188.282000\n",
      "max       4304.000000\n",
      "Name: url_domain, dtype: float64\n"
     ]
    }
   ],
   "source": [
    "descriptive(df_url[\"url_domain\"])"
   ]
  },
  {
   "cell_type": "code",
   "execution_count": 13,
   "id": "colored-physics",
   "metadata": {},
   "outputs": [
    {
     "name": "stdout",
     "output_type": "stream",
     "text": [
      "com       135671\n",
      "co.jp       9455\n",
      "ru          9374\n",
      "com.br      7492\n",
      "de          7407\n",
      "co.uk       6899\n",
      "be          6718\n",
      "com.tr      5833\n",
      "org         5394\n",
      "jp          4445\n",
      "Name: url_suffix, dtype: int64\n",
      "not null 266883\n",
      "rows (common classes) 265893 classes 371\n",
      "count       942.000000\n",
      "mean        283.315287\n",
      "std        4479.632175\n",
      "min           1.000000\n",
      "50%           3.000000\n",
      "90%         118.900000\n",
      "95%         443.950000\n",
      "99%        4103.060000\n",
      "99.9%     16901.744000\n",
      "max      135671.000000\n",
      "Name: url_suffix, dtype: float64\n"
     ]
    }
   ],
   "source": [
    "descriptive(df_url[\"url_suffix\"])"
   ]
  },
  {
   "cell_type": "code",
   "execution_count": 14,
   "id": "undefined-nutrition",
   "metadata": {},
   "outputs": [
    {
     "data": {
      "text/plain": [
       "8          71\n",
       "12         28\n",
       "13         37\n",
       "16         31\n",
       "17         23\n",
       "           ..\n",
       "1138781    14\n",
       "1138784    22\n",
       "1138788    24\n",
       "1138797    94\n",
       "1138806    80\n",
       "Name: url, Length: 267724, dtype: int64"
      ]
     },
     "execution_count": 14,
     "metadata": {},
     "output_type": "execute_result"
    }
   ],
   "source": [
    "df[\"url\"].dropna().apply(len)"
   ]
  }
 ],
 "metadata": {
  "kernelspec": {
   "display_name": "Python [conda env:foursquare]",
   "language": "python",
   "name": "conda-env-foursquare-py"
  },
  "language_info": {
   "codemirror_mode": {
    "name": "ipython",
    "version": 3
   },
   "file_extension": ".py",
   "mimetype": "text/x-python",
   "name": "python",
   "nbconvert_exporter": "python",
   "pygments_lexer": "ipython3",
   "version": "3.8.0"
  }
 },
 "nbformat": 4,
 "nbformat_minor": 5
}
